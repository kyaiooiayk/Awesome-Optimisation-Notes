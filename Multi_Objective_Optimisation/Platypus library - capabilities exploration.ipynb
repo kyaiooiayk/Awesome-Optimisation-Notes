{
 "cells": [
  {
   "cell_type": "markdown",
   "metadata": {},
   "source": [
    "<div class=\"alert alert-block alert-warning\">\n",
    "<font color=black><br>\n",
    "\n",
    "**What?** Platypus library - capabilities exploration\n",
    "\n",
    "**Reference [1]:** https://github.com/Project-Platypus/Platypus<br>\n",
    "**Reference [2]:** https://platypus.readthedocs.io/en/latest/getting-started.html<br>\n",
    "\n",
    "<br></font>\n",
    "</div>"
   ]
  },
  {
   "cell_type": "markdown",
   "metadata": {},
   "source": [
    "# Import modules"
   ]
  },
  {
   "cell_type": "code",
   "execution_count": null,
   "metadata": {},
   "outputs": [],
   "source": [
    "from platypus import NSGAII, Problem, Real\n",
    "from platypus import NSGAII, NSGAIII, DTLZ2\n",
    "import matplotlib.pyplot as plt\n",
    "from platypus.operators import PCX\n",
    "from matplotlib import rcParams\n",
    "from platypus import Problem, Permutation, nondominated\n",
    "from platypus import NSGAII, NSGAIII, DTLZ2, Hypervolume, experiment, calculate, display\n",
    "rcParams['figure.figsize'] = 14, 8\n",
    "rcParams['font.size'] = 20\n",
    "\n",
    "# Getting rid of the warning messages\n",
    "import warnings\n",
    "warnings.filterwarnings(\"ignore\")"
   ]
  },
  {
   "cell_type": "markdown",
   "metadata": {},
   "source": [
    "# Test functions for mulit-objectives problems"
   ]
  },
  {
   "cell_type": "markdown",
   "metadata": {},
   "source": [
    "<div class=\"alert alert-block alert-info\">\n",
    "<font color=black><br>\n",
    "\n",
    "- A list of challenging test function can be found here: https://en.wikipedia.org/wiki/Test_functions_for_optimization\n",
    "        \n",
    "<br></font>\n",
    "</div>"
   ]
  },
  {
   "cell_type": "markdown",
   "metadata": {},
   "source": [
    "# Example No. 1 - bounded + unconstrained + bi-objective"
   ]
  },
  {
   "cell_type": "markdown",
   "metadata": {},
   "source": [
    "<div class=\"alert alert-block alert-info\">\n",
    "<font color=black><br>\n",
    "\n",
    "- **Bounded**      = means the x variable can take only certain values\n",
    "- **Uncostrained** = means there is no constraint beig enforced on the 2 objective functions\n",
    "- **Bi-objective** = means there are 2 objective to minimise, maximise or a mix of these two\n",
    "\n",
    "<br></font>\n",
    "</div>"
   ]
  },
  {
   "attachments": {
    "image.png": {
     "image/png": "[encoded data removed]"
    }
   },
   "cell_type": "markdown",
   "metadata": {},
   "source": [
    "![image.png](attachment:image.png)"
   ]
  },
  {
   "cell_type": "code",
   "execution_count": null,
   "metadata": {
    "scrolled": true
   },
   "outputs": [],
   "source": [
    "# Create test function\n",
    "def schaffer(x):\n",
    "        return [x[0]**2, (x[0]-2)**2]\n",
    "\n",
    "# instantiate the optimization algorithm    \n",
    "\n",
    "# 1 is the number of decision variables, 2 is the number of objectives\n",
    "problem = Problem(1, 2)\n",
    "\n",
    "# The notation problem.types[:] is a shorthand way to assign all decision variables to the same type. \n",
    "problem.types[:] = Real(-10, 10)\n",
    "problem.function = schaffer\n",
    "\n",
    "# optimize the problem using 10,000 function evaluations\n",
    "algorithm = NSGAII(problem)\n",
    "algorithm.run(10000)\n",
    "\n",
    "# display the results\n",
    "for solution in algorithm.result:\n",
    "    print(solution.objectives)"
   ]
  },
  {
   "cell_type": "code",
   "execution_count": null,
   "metadata": {},
   "outputs": [],
   "source": [
    "# showing in a slightly better way\n",
    "print(\" Obj1\\t Obj2\")\n",
    "\n",
    "for solution in algorithm.result[:5]:\n",
    "    print(\"%0.6f\\t%0.6f\" % tuple(solution.objectives))"
   ]
  },
  {
   "cell_type": "code",
   "execution_count": null,
   "metadata": {},
   "outputs": [],
   "source": [
    "plt.scatter([s.objectives[0] for s in algorithm.result],\n",
    "            [s.objectives[1] for s in algorithm.result])\n",
    "#plt.xlim([0, 1.1])\n",
    "#plt.ylim([0, 1.1])\n",
    "plt.xlabel(\"$f_1(x)$\")\n",
    "plt.ylabel(\"$f_2(x)$\")\n",
    "plt.show()"
   ]
  },
  {
   "cell_type": "code",
   "execution_count": null,
   "metadata": {},
   "outputs": [],
   "source": [
    "# An equivalent but more reusable way to define this problem is extending the Problem class."
   ]
  },
  {
   "cell_type": "code",
   "execution_count": null,
   "metadata": {},
   "outputs": [],
   "source": [
    "class Schaffer(Problem):\n",
    "\n",
    "    def __init__(self):\n",
    "        super(Schaffer, self).__init__(1, 2)\n",
    "        self.types[:] = Real(-10, 10)\n",
    "    \n",
    "    def evaluate(self, solution):\n",
    "        x = solution.variables[:]\n",
    "        solution.objectives[:] = [x[0]**2, (x[0]-2)**2]\n",
    "\n",
    "algorithm = NSGAII(Schaffer())\n",
    "algorithm.run(10000)"
   ]
  },
  {
   "cell_type": "markdown",
   "metadata": {},
   "source": [
    "# Example No. 2 - using problem from library"
   ]
  },
  {
   "cell_type": "markdown",
   "metadata": {},
   "source": [
    "<div class=\"alert alert-block alert-info\">\n",
    "<font color=black><br>\n",
    "\n",
    "- Note that we did not need to specify many settings when constructing NSGA-II. \n",
    "- For any options NOT specified by the user, Platypus supplies the appropriate settings using best practices. \n",
    "- In this example, Platypus inspected the problem definition to determine that the DTLZ2 problem consists \n",
    "of real-valued decision variables and selected the Simulated Binary Crossover (SBX) and Polynomial Mutation \n",
    "(PM) operators. \n",
    "- One can easily switch to using different operators, such as Parent-Centric Crossover (PCX):\n",
    "\n",
    "<br></font>\n",
    "</div>"
   ]
  },
  {
   "cell_type": "code",
   "execution_count": null,
   "metadata": {
    "scrolled": true
   },
   "outputs": [],
   "source": [
    "# define the problem definition\n",
    "problem = DTLZ2()\n",
    "\n",
    "# instantiate the optimization algorithm\n",
    "algorithm = NSGAII(problem)\n",
    "\n",
    "# optimize the problem using 10,000 function evaluations\n",
    "algorithm.run(10000)\n",
    "\n",
    "# display the results\n",
    "for solution in algorithm.result:\n",
    "    print(solution.objectives)"
   ]
  },
  {
   "cell_type": "code",
   "execution_count": null,
   "metadata": {},
   "outputs": [],
   "source": [
    "plt.scatter([s.objectives[0] for s in algorithm.result],\n",
    "            [s.objectives[1] for s in algorithm.result])\n",
    "#plt.xlim([0, 1.1])\n",
    "#plt.ylim([0, 1.1])\n",
    "plt.xlabel(\"$f_1(x)$\")\n",
    "plt.ylabel(\"$f_2(x)$\")\n",
    "plt.show()"
   ]
  },
  {
   "cell_type": "markdown",
   "metadata": {},
   "source": [
    "# Example No. 3 - changing attributes"
   ]
  },
  {
   "cell_type": "markdown",
   "metadata": {},
   "source": [
    "<div class=\"alert alert-block alert-info\">\n",
    "<font color=black><br>\n",
    "\n",
    "- Changing some attributes from the problem above\n",
    "\n",
    "<br></font>\n",
    "</div>"
   ]
  },
  {
   "cell_type": "code",
   "execution_count": null,
   "metadata": {},
   "outputs": [],
   "source": [
    "problem = DTLZ2()\n",
    "\n",
    "algorithm = NSGAII(problem, variator = PCX())\n",
    "algorithm.run(10000)"
   ]
  },
  {
   "cell_type": "code",
   "execution_count": null,
   "metadata": {},
   "outputs": [],
   "source": [
    "plt.scatter([s.objectives[0] for s in algorithm.result],\n",
    "            [s.objectives[1] for s in algorithm.result])\n",
    "#plt.xlim([0, 1.1])\n",
    "#plt.ylim([0, 1.1])\n",
    "plt.xlabel(\"$f_1(x)$\")\n",
    "plt.ylabel(\"$f_2(x)$\")\n",
    "plt.show()"
   ]
  },
  {
   "cell_type": "markdown",
   "metadata": {},
   "source": [
    "# Example #4 - bounded + constrained + bi-objective"
   ]
  },
  {
   "cell_type": "markdown",
   "metadata": {},
   "source": [
    "<div class=\"alert alert-block alert-info\">\n",
    "<font color=black><br>\n",
    "\n",
    "- Belegundu problem\n",
    "- Examples of other constraints types are: \">=0\", \"==0\", or \"!=5\".\n",
    "- The final population could contain infeasible and dominated solutions if the number of function evaluations\n",
    "was **insufficient** (e.g. algorithm.Run(100)). \n",
    "- In this case we would need to filter out the **infeasible solutions**.\n",
    "    \n",
    "<br></font>\n",
    "</div>"
   ]
  },
  {
   "attachments": {
    "image.png": {
     "image/png": "[encoded data removed]"
    }
   },
   "cell_type": "markdown",
   "metadata": {},
   "source": [
    "![image.png](attachment:image.png)"
   ]
  },
  {
   "cell_type": "code",
   "execution_count": null,
   "metadata": {},
   "outputs": [],
   "source": [
    "def belegundu(vars):\n",
    "    x = vars[0]\n",
    "    y = vars[1]\n",
    "    return [-2*x + y, 2*x + y], [-x + y - 1, x + y - 7]\n",
    "\n",
    "# (2, 2, 2) means that have we have 2 decision variables, 2 objectives, and 2 constraints, respectively.\n",
    "problem = Problem(2, 2, 2)\n",
    "\n",
    "# type and DVs bounds! also called feasability criteria\n",
    "problem.types[:] = [Real(0, 5), Real(0, 3)]\n",
    "\n",
    "# The constraint feasibility criteria is specified as the string \n",
    "# \"<=0\", meaning a solution is feasible if the constraint values are less than or equal to zero.\n",
    "problem.constraints[:] = \"<=0\"\n",
    "problem.function = belegundu\n",
    "\n",
    "algorithm = NSGAII(problem)\n",
    "algorithm.run(10000)"
   ]
  },
  {
   "cell_type": "code",
   "execution_count": null,
   "metadata": {},
   "outputs": [],
   "source": [
    "feasible_solutions = [s for s in algorithm.result if s.feasible]\n",
    "infeasible_solutions = [s for s in algorithm.result if not s.feasible]"
   ]
  },
  {
   "cell_type": "code",
   "execution_count": null,
   "metadata": {},
   "outputs": [],
   "source": [
    "nondominated_solutions = nondominated(algorithm.result)"
   ]
  },
  {
   "cell_type": "code",
   "execution_count": null,
   "metadata": {},
   "outputs": [],
   "source": [
    "plt.scatter([s.objectives[0] for s in algorithm.result],\n",
    "            [s.objectives[1] for s in algorithm.result])\n",
    "\n",
    "plt.xlabel(\"$f_1(x)$\")\n",
    "plt.ylabel(\"$f_2(x)$\")\n",
    "plt.show()"
   ]
  },
  {
   "cell_type": "markdown",
   "metadata": {},
   "source": [
    "<div class=\"alert alert-block alert-info\">\n",
    "<font color=black><br>\n",
    "\n",
    "- Alternatively, we can develop a reusable class for this problem by extending the Problem class. \n",
    "- Like before,  we move the type and constraint declarations to the __init__ method and assign the solution’s constraints attribute \n",
    "in the evaluate method.\n",
    "\n",
    "<br></font>\n",
    "</div>"
   ]
  },
  {
   "cell_type": "code",
   "execution_count": null,
   "metadata": {},
   "outputs": [],
   "source": [
    "class Belegundu(Problem):\n",
    "\n",
    "    def __init__(self):\n",
    "        super(Belegundu, self).__init__(2, 2, 2)\n",
    "        self.types[:] = [Real(0, 5), Real(0, 3)]\n",
    "        self.constraints[:] = \"<=0\"\n",
    "    \n",
    "    def evaluate(self, solution):\n",
    "        x = solution.variables[0]\n",
    "        y = solution.variables[1]\n",
    "        solution.objectives[:] = [-2*x + y, 2*x + y]\n",
    "        solution.constraints[:] = [-x + y - 1, x + y - 7]\n",
    "        \n",
    "algorithm = NSGAII(Belegundu())\n",
    "algorithm.run(10000)"
   ]
  },
  {
   "cell_type": "markdown",
   "metadata": {},
   "source": [
    "<div class=\"alert alert-block alert-info\">\n",
    "<font color=black><br>\n",
    "\n",
    "- In these examples, we have assumed that the objectives are being minimized. Platypus is flexible and allows the\n",
    "optimization direction to be changed per objective by setting the directions attribute. \n",
    "- For example: **problem.directions[:] = Problem.MAXIMIZE**\n",
    "\n",
    "<br></font>\n",
    "</div>"
   ]
  },
  {
   "cell_type": "markdown",
   "metadata": {},
   "source": [
    "# Example #5"
   ]
  },
  {
   "cell_type": "markdown",
   "metadata": {},
   "source": [
    "<div class=\"alert alert-block alert-info\">\n",
    "<font color=black><br>\n",
    "\n",
    "- https://github.com/Project-Platypus/Platypus/blob/master/example.py\n",
    "\n",
    "<br></font>\n",
    "</div>"
   ]
  },
  {
   "cell_type": "code",
   "execution_count": null,
   "metadata": {},
   "outputs": [],
   "source": [
    "# define the problem definition\n",
    "problem = DTLZ2(3)\n",
    "\n",
    "# instantiate the optimization algorithm\n",
    "algorithm = NSGAIII(problem, divisions_outer=12)\n",
    "\n",
    "# optimize the problem using 10,000 function evaluations\n",
    "algorithm.run(10000)\n",
    "\n",
    "# plot the results using matplotlib\n",
    "import matplotlib.pyplot as plt\n",
    "from mpl_toolkits.mplot3d import Axes3D\n",
    "\n",
    "fig = plt.figure()\n",
    "ax = fig.add_subplot(111, projection='3d')\n",
    "ax.scatter([s.objectives[0] for s in algorithm.result],\n",
    "           [s.objectives[1] for s in algorithm.result],\n",
    "           [s.objectives[2] for s in algorithm.result])\n",
    "plt.show()"
   ]
  },
  {
   "cell_type": "markdown",
   "metadata": {},
   "source": [
    "# Example #6 -  comparing different algorithms"
   ]
  },
  {
   "cell_type": "markdown",
   "metadata": {},
   "source": [
    "<div class=\"alert alert-block alert-info\">\n",
    "<font color=black><br>\n",
    "\n",
    "- https://github.com/Project-Platypus/Platypus/blob/master/examples/comparison.py\n",
    "- NSGA-III requires an additional argument called divisions_outer, which controls the number and spacing \n",
    "of reference points. \n",
    "- A larger value will produce more Pareto optimal points. For 3-objective problems, \n",
    "12 divisions works well.\n",
    "\n",
    "<br></font>\n",
    "</div>"
   ]
  },
  {
   "cell_type": "code",
   "execution_count": null,
   "metadata": {},
   "outputs": [],
   "source": [
    "from platypus import *\n",
    "problem = DTLZ2(3)        \n",
    "algorithms = [NSGAII,\n",
    "              (NSGAIII, {\"divisions_outer\":12}),\n",
    "              (CMAES, {\"epsilons\":[0.05]}),\n",
    "              GDE3,\n",
    "              IBEA,\n",
    "              (MOEAD, {\"weight_generator\":normal_boundary_weights, \"divisions_outer\":12}),\n",
    "              (OMOPSO, {\"epsilons\":[0.05]}),\n",
    "              SMPSO,\n",
    "              SPEA2,\n",
    "              (EpsMOEA, {\"epsilons\":[0.05]})]\n",
    "\n",
    "# run the experiment using Python 3's concurrent futures for parallel evaluation\n",
    "with ProcessPoolEvaluator() as evaluator:\n",
    "    results = experiment(algorithms, problem, seeds=1, nfe=10000, evaluator=evaluator)\n",
    "\n",
    "# display the results\n",
    "fig = plt.figure()\n",
    "\n",
    "for i, algorithm in enumerate(six.iterkeys(results)):\n",
    "    result = results[algorithm][\"DTLZ2\"][0]\n",
    "\n",
    "    ax = fig.add_subplot(2, 5, i+1, projection='3d')\n",
    "    ax.scatter([s.objectives[0] for s in result],\n",
    "               [s.objectives[1] for s in result],\n",
    "               [s.objectives[2] for s in result])\n",
    "    ax.set_title(algorithm)\n",
    "    ax.set_xlim([0, 1.1])\n",
    "    ax.set_ylim([0, 1.1])\n",
    "    ax.set_zlim([0, 1.1])\n",
    "    ax.view_init(elev=30.0, azim=15.0)\n",
    "    ax.locator_params(nbins=4)\n",
    "\n",
    "plt.show()"
   ]
  },
  {
   "cell_type": "markdown",
   "metadata": {},
   "source": [
    "<div class=\"alert alert-block alert-info\">\n",
    "<font color=black><br>\n",
    "\n",
    "- THE ONES ABOVE ARE ALL PARETO FRONT!\n",
    "- As demonstrated, we can quickly solve multiobjective optimization problems and display results. Platypus is great \n",
    "for education or learning about multiobjective optimization. If considering Platypus for real applications, please \n",
    "note that its performance is slow.\n",
    "- For applications demanding high performance, check out http://moeaframework.org/. \n",
    "- The MOEA Framework provides a similar architecture to Platypus, but achieves 10-100x better performance.\n",
    "\n",
    "<br></font>\n",
    "</div>"
   ]
  },
  {
   "cell_type": "markdown",
   "metadata": {},
   "source": [
    "# Calculate the quality of the results - hypervolume"
   ]
  },
  {
   "cell_type": "markdown",
   "metadata": {},
   "source": [
    "<div class=\"alert alert-block alert-info\">\n",
    "<font color=black><br>\n",
    "\n",
    "- Once this data is collected, we can then use statistical tests to determine if there is any statistical \n",
    "difference between the results. \n",
    "- In this case, we may want to use the Mann-Whitney U test from scipy.stats.mannwhitneyu.\n",
    "\n",
    "<br></font>\n",
    "</div>"
   ]
  },
  {
   "cell_type": "code",
   "execution_count": null,
   "metadata": {},
   "outputs": [],
   "source": [
    "algorithms = [NSGAII, (NSGAIII, {\"divisions_outer\":12})]\n",
    "problems = [DTLZ2(3)]\n",
    "\n",
    "# run the experiment\n",
    "results = experiment(algorithms, problems, nfe=10000, seeds=10)\n",
    "\n",
    "# calculate the hypervolume indicator\n",
    "hyp = Hypervolume(minimum=[0, 0, 0], maximum=[1, 1, 1])\n",
    "hyp_result = calculate(results, hyp)\n",
    "display(hyp_result, ndigits=3)"
   ]
  },
  {
   "cell_type": "markdown",
   "metadata": {},
   "source": [
    "# Calculaty the quality of the results - hypevolume in parallel"
   ]
  },
  {
   "cell_type": "code",
   "execution_count": null,
   "metadata": {},
   "outputs": [],
   "source": [
    "\"\"\"\n",
    "https://github.com/Project-Platypus/Platypus/blob/master/examples/experimenter_parallel.py\n",
    "\"\"\""
   ]
  },
  {
   "cell_type": "code",
   "execution_count": null,
   "metadata": {},
   "outputs": [],
   "source": [
    "algorithms = [NSGAII, (NSGAIII, {\"divisions_outer\":12})]\n",
    "problems = [DTLZ2(3)]\n",
    "\n",
    "with ProcessPoolEvaluator(8) as evaluator:\n",
    "    results = experiment(algorithms, problems, nfe=10000, evaluator=evaluator)\n",
    "\n",
    "    hyp = Hypervolume(minimum=[0, 0, 0], maximum=[1, 1, 1])\n",
    "    hyp_result = calculate(results, hyp, evaluator=evaluator)\n",
    "    display(hyp_result, ndigits=3)"
   ]
  },
  {
   "cell_type": "markdown",
   "metadata": {},
   "source": [
    "# Indicator"
   ]
  },
  {
   "cell_type": "code",
   "execution_count": null,
   "metadata": {},
   "outputs": [],
   "source": [
    "\"\"\"\n",
    "\n",
    "\"\"\""
   ]
  },
  {
   "cell_type": "code",
   "execution_count": null,
   "metadata": {},
   "outputs": [],
   "source": [
    "import random\n",
    "from platypus import (NSGAII, DTLZ2, Solution, EpsilonBoxArchive, GenerationalDistance, InvertedGenerationalDistance,\n",
    "                      Hypervolume, EpsilonIndicator, Spacing)\n",
    "\n",
    "# create the problem\n",
    "problem = DTLZ2(3)\n",
    "\n",
    "# solve it using NSGA-II\n",
    "algorithm = NSGAII(problem)\n",
    "algorithm.run(10000)\n",
    "\n",
    "# generate the reference set for 3D DTLZ2\n",
    "reference_set = EpsilonBoxArchive([0.02, 0.02, 0.02])\n",
    "\n",
    "for _ in range(1000):\n",
    "    solution = Solution(problem)\n",
    "    solution.variables = [random.uniform(0,1) if i < problem.nobjs-1 else 0.5 for i in range(problem.nvars)]\n",
    "    solution.evaluate()\n",
    "    reference_set.add(solution)\n",
    "\n",
    "# compute the indicators\n",
    "gd = GenerationalDistance(reference_set)\n",
    "print(\"Generational Distance:\", gd.calculate(algorithm.result))\n",
    "\n",
    "igd = InvertedGenerationalDistance(reference_set)\n",
    "print(\"Inverted Generational Distance:\", igd.calculate(algorithm.result))\n",
    "\n",
    "hyp = Hypervolume(reference_set)\n",
    "print(\"Hypervolume:\", hyp.calculate(algorithm.result))\n",
    "\n",
    "ei = EpsilonIndicator(reference_set)\n",
    "print(\"Epsilon Indicator:\", ei.calculate(algorithm.result))\n",
    "\n",
    "sp = Spacing()\n",
    "print(\"Spacing:\", sp.calculate(algorithm.result))"
   ]
  },
  {
   "cell_type": "code",
   "execution_count": null,
   "metadata": {},
   "outputs": [],
   "source": [
    "# plot the result versus the reference set\n",
    "import matplotlib.pyplot as plt\n",
    "from mpl_toolkits.mplot3d import Axes3D\n",
    "\n",
    "fig = plt.figure()\n",
    "ax = fig.add_subplot(1, 1, 1, projection='3d')\n",
    "\n",
    "ax.scatter([s.objectives[0] for s in reference_set],\n",
    "           [s.objectives[1] for s in reference_set],\n",
    "           [s.objectives[2] for s in reference_set],\n",
    "           c=\"red\",\n",
    "           edgecolors=\"none\",\n",
    "           label=\"Reference Set\")\n",
    "\n",
    "#ax.scatter([s.objectives[0] for s in algorithm.result],\n",
    "#           [s.objectives[1] for s in algorithm.result],\n",
    "#           [s.objectives[2] for s in algorithm.result],\n",
    "#           c=\"blue\",\n",
    "#           edgecolors=\"none\",\n",
    "#           label = \"NSGA-II Result\")\n",
    "\n",
    "ax.set_title(\"Reference Set\")\n",
    "ax.set_xlim([0, 1.1])\n",
    "ax.set_ylim([0, 1.1])\n",
    "ax.set_zlim([0, 1.1])\n",
    "ax.set_xlabel(\"$f_1(x)$\")\n",
    "ax.set_ylabel(\"$f_2(x)$\")\n",
    "ax.set_zlabel(\"$f_3(x)$\")\n",
    "#ax.view_init(elev=30.0, azim=15.0)\n",
    "#ax.locator_params(nbins=4)\n",
    "ax.legend()\n",
    "plt.show()"
   ]
  },
  {
   "cell_type": "markdown",
   "metadata": {},
   "source": [
    "# Knapsack problem"
   ]
  },
  {
   "cell_type": "code",
   "execution_count": null,
   "metadata": {},
   "outputs": [],
   "source": [
    "from platypus import GeneticAlgorithm, Problem, Constraint, Binary, nondominated, unique\n",
    "\n",
    "# This simple example has an optimal value of 15 when picking items 1 and 4.\n",
    "items = 7\n",
    "capacity = 9\n",
    "weights = [2, 3, 6, 7, 5, 9, 4]\n",
    "profits = [6, 5, 8, 9, 6, 7, 3]\n",
    "    \n",
    "def knapsack(x):\n",
    "    selection = x[0]\n",
    "    total_weight = sum([weights[i] if selection[i] else 0 for i in range(items)])\n",
    "    total_profit = sum([profits[i] if selection[i] else 0 for i in range(items)])\n",
    "    \n",
    "    return total_profit, total_weight\n",
    "\n",
    "problem = Problem(1, 1, 1)\n",
    "problem.types[0] = Binary(items)\n",
    "problem.directions[0] = Problem.MAXIMIZE\n",
    "problem.constraints[0] = Constraint(\"<=\", capacity)\n",
    "problem.function = knapsack\n",
    "\n",
    "algorithm = GeneticAlgorithm(problem)\n",
    "algorithm.run(10000)\n",
    "\n",
    "for solution in unique(nondominated(algorithm.result)):\n",
    "    print(solution.variables, solution.objectives)"
   ]
  },
  {
   "cell_type": "markdown",
   "metadata": {},
   "source": [
    "# Simple indicators"
   ]
  },
  {
   "cell_type": "code",
   "execution_count": null,
   "metadata": {},
   "outputs": [],
   "source": [
    "import math\n",
    "import numpy\n",
    "from platypus import *\n",
    "\n",
    "# Define the problem definition.\n",
    "problem = DTLZ2()\n",
    "\n",
    "# Instantiate the optimization algorithm.\n",
    "algorithm = NSGAII(problem)\n",
    "\n",
    "# Optimize the problem using 10,000 function evaluations.\n",
    "algorithm.run(10000)\n",
    "\n",
    "# Create the reference set.  For 2-objective DTLZ2, the reference set\n",
    "# solutions must satisfy the equation x^2 + y^2 = 1.\n",
    "ref_set = []\n",
    "\n",
    "for x in numpy.arange(0.0, 1.0, 0.01):\n",
    "    solution = Solution(problem)\n",
    "    solution.objectives[:] = [x, math.sqrt(1.0 - x**2)]\n",
    "    ref_set.append(solution)\n",
    "\n",
    "# Calculate the performance metrics.\n",
    "hyp = Hypervolume(reference_set = ref_set)\n",
    "print(\"Hypervolume:\", hyp.calculate(algorithm.result))\n",
    "\n",
    "gd = GenerationalDistance(reference_set = ref_set)\n",
    "print(\"GD:\", gd.calculate(algorithm.result))\n",
    "\n",
    "igd = InvertedGenerationalDistance(reference_set = ref_set)\n",
    "print(\"IGD:\", igd.calculate(algorithm.result))\n",
    "\n",
    "aei = EpsilonIndicator(reference_set = ref_set)\n",
    "print(\"Eps-Indicator:\", aei.calculate(algorithm.result))\n",
    "\n",
    "spacing = Spacing()\n",
    "print(\"Spacing:\", spacing.calculate(algorithm.result))"
   ]
  },
  {
   "cell_type": "code",
   "execution_count": null,
   "metadata": {},
   "outputs": [],
   "source": [
    "plt.scatter([s.objectives[0] for s in algorithm.result],\n",
    "            [s.objectives[1] for s in algorithm.result])\n",
    "plt.xlim([0, 1.1])\n",
    "plt.ylim([0, 1.1])\n",
    "plt.xlabel(\"$f_1(x)$\")\n",
    "plt.ylabel(\"$f_2(x)$\")\n",
    "plt.show()"
   ]
  },
  {
   "cell_type": "markdown",
   "metadata": {},
   "source": [
    "# Simple MPI - cluster"
   ]
  },
  {
   "cell_type": "code",
   "execution_count": null,
   "metadata": {},
   "outputs": [],
   "source": [
    "\"\"\"\n",
    "This is the bash script we use to submit the job to the cluster\n",
    "\n",
    "#PBS -N simple_mpi\n",
    "#PBS -l nodes=1:ppn=16\n",
    "#PBS -l walltime=1:00:00\n",
    "#PBS -j oe\n",
    "#PBS -o simple_mpi.out\n",
    "\n",
    "cd $PBS_O_WORKDIR\n",
    "\n",
    "module load python-2.7.5\n",
    "mpirun python simple_mpi.py\n",
    "\"\"\""
   ]
  },
  {
   "cell_type": "code",
   "execution_count": null,
   "metadata": {},
   "outputs": [],
   "source": [
    "\"\"\"\n",
    "this file must be saved under this file name: simple_mpi.py and then you use the bash script above for submission\n",
    "\"\"\"\n",
    "\n",
    "from platypus import NSGAII, DTLZ2, PoolEvaluator\n",
    "from platypus.mpipool import MPIPool\n",
    "import sys\n",
    "import logging\n",
    "\n",
    "logging.basicConfig(level=logging.INFO)\n",
    "\n",
    "# simulate an computationally expensive problem\n",
    "class DTLZ2_Slow(DTLZ2):\n",
    "    \n",
    "    def evaluate(self, solution):\n",
    "        sum(range(1000000))\n",
    "        super(DTLZ2_Slow, self).evaluate(solution)\n",
    "\n",
    "if __name__ == \"__main__\":\n",
    "    # define the problem definition\n",
    "    problem = DTLZ2_Slow()\n",
    "    pool = MPIPool()\n",
    "\n",
    "    # only run the algorithm on the master process\n",
    "    if not pool.is_master():\n",
    "        pool.wait()\n",
    "        sys.exit(0)\n",
    "\n",
    "    # instantiate the optimization algorithm to run in parallel\n",
    "    with PoolEvaluator(pool) as evaluator:\n",
    "        algorithm = NSGAII(problem, evaluator=evaluator)\n",
    "        algorithm.run(10000)\n",
    "    \n",
    "    # display the results\n",
    "    for solution in algorithm.result:\n",
    "        print(solution.objectives)\n",
    "\n",
    "    pool.close()"
   ]
  },
  {
   "cell_type": "markdown",
   "metadata": {},
   "source": [
    "# Simple parallel - you local PC - multi-threading"
   ]
  },
  {
   "cell_type": "code",
   "execution_count": null,
   "metadata": {},
   "outputs": [],
   "source": [
    "from platypus import NSGAII, DTLZ2, ProcessPoolEvaluator\n",
    "\n",
    "# simulate an computationally expensive problem\n",
    "class DTLZ2_Slow(DTLZ2):\n",
    "    \n",
    "    def evaluate(self, solution):\n",
    "        sum(range(1000000))\n",
    "        super(DTLZ2_Slow, self).evaluate(solution)\n",
    "\n",
    "if __name__ == \"__main__\":\n",
    "    # define the problem definition\n",
    "    problem = DTLZ2_Slow()\n",
    "\n",
    "    # instantiate the optimization algorithm to run in parallel\n",
    "    with ProcessPoolEvaluator(4) as evaluator:\n",
    "        algorithm = NSGAII(problem, evaluator=evaluator)\n",
    "        algorithm.run(10000)\n",
    "\n",
    "    # display the results\n",
    "    for solution in algorithm.result:\n",
    "    print(solution.objectives)"
   ]
  },
  {
   "cell_type": "code",
   "execution_count": null,
   "metadata": {},
   "outputs": [],
   "source": []
  },
  {
   "cell_type": "code",
   "execution_count": null,
   "metadata": {},
   "outputs": [],
   "source": []
  }
 ],
 "metadata": {
  "kernelspec": {
   "display_name": "trainingAI",
   "language": "python",
   "name": "trainingai"
  },
  "language_info": {
   "codemirror_mode": {
    "name": "ipython",
    "version": 3
   },
   "file_extension": ".py",
   "mimetype": "text/x-python",
   "name": "python",
   "nbconvert_exporter": "python",
   "pygments_lexer": "ipython3",
   "version": "3.8.5"
  }
 },
 "nbformat": 4,
 "nbformat_minor": 2
}
