{
 "cells": [
  {
   "cell_type": "markdown",
   "id": "b5afee4a",
   "metadata": {
    "toc": true
   },
   "source": [
    "<h1>Table of Contents<span class=\"tocSkip\"></span></h1>\n",
    "<div class=\"toc\"><ul class=\"toc-item\"><li><span><a href=\"#Introduction\" data-toc-modified-id=\"Introduction-1\"><span class=\"toc-item-num\">1&nbsp;&nbsp;</span>Introduction</a></span></li><li><span><a href=\"#Import-modules\" data-toc-modified-id=\"Import-modules-2\"><span class=\"toc-item-num\">2&nbsp;&nbsp;</span>Import modules</a></span></li><li><span><a href=\"#Load-the-dataset\" data-toc-modified-id=\"Load-the-dataset-3\"><span class=\"toc-item-num\">3&nbsp;&nbsp;</span>Load the dataset</a></span></li><li><span><a href=\"#Build-a-reference-model\" data-toc-modified-id=\"Build-a-reference-model-4\"><span class=\"toc-item-num\">4&nbsp;&nbsp;</span>Build a reference model</a></span></li><li><span><a href=\"#Option-#1---gp_minimize\" data-toc-modified-id=\"Option-#1---gp_minimize-5\"><span class=\"toc-item-num\">5&nbsp;&nbsp;</span>Option #1 - gp_minimize</a></span></li><li><span><a href=\"#Option-#2---BayesSearchCV\" data-toc-modified-id=\"Option-#2---BayesSearchCV-6\"><span class=\"toc-item-num\">6&nbsp;&nbsp;</span>Option #2 - BayesSearchCV</a></span></li><li><span><a href=\"#References\" data-toc-modified-id=\"References-7\"><span class=\"toc-item-num\">7&nbsp;&nbsp;</span>References</a></span></li></ul></div>"
   ]
  },
  {
   "cell_type": "markdown",
   "id": "f1073d65",
   "metadata": {},
   "source": [
    "# Introduction\n",
    "<hr style=\"border:2px solid black\"> </hr>"
   ]
  },
  {
   "cell_type": "markdown",
   "id": "1e24a637",
   "metadata": {},
   "source": [
    "<div class=\"alert alert-warning\">\n",
    "<font color=black>\n",
    "\n",
    "**What?** Using Scikit-optimize for hyperparameter tuning\n",
    "\n",
    "</font>\n",
    "</div>"
   ]
  },
  {
   "cell_type": "markdown",
   "id": "40cd5e67",
   "metadata": {},
   "source": [
    "# Import modules\n",
    "<hr style=\"border:2px solid black\"> </hr>"
   ]
  },
  {
   "cell_type": "markdown",
   "id": "b0dddaac",
   "metadata": {},
   "source": [
    "<div class=\"alert alert-info\">\n",
    "<font color=black>\n",
    "\n",
    "- `TypeError: __init__() got an unexpected keyword argument 'iid'`\n",
    "- [Then follow this link](https://github.com/scikit-optimize/scikit-optimize/issues/978)\n",
    "- Then if you are happy do (just use virtual environment to keep things tidy): \n",
    "- `pip uninstall scikit-learn`\n",
    "- `pip install scikit-learn==0.23.2`\n",
    "\n",
    "</font>\n",
    "</div>"
   ]
  },
  {
   "cell_type": "code",
   "execution_count": null,
   "id": "a1aba70d",
   "metadata": {},
   "outputs": [],
   "source": [
    "import skopt\n",
    "import sklearn\n",
    "from pandas import read_csv\n",
    "from numpy import mean\n",
    "from numpy import std\n",
    "from pandas import read_csv\n",
    "from sklearn.model_selection import cross_val_score\n",
    "from sklearn.model_selection import RepeatedStratifiedKFold\n",
    "from sklearn.svm import SVC\n",
    "from skopt.space import Integer\n",
    "from skopt.space import Real\n",
    "from skopt.space import Categorical\n",
    "from skopt.utils import use_named_args\n",
    "from skopt import gp_minimize\n",
    "from skopt import BayesSearchCV\n",
    "\n",
    "# Getting rid of the warning messages\n",
    "import warnings\n",
    "warnings.filterwarnings(\"ignore\")"
   ]
  },
  {
   "cell_type": "code",
   "execution_count": null,
   "id": "b19f31af",
   "metadata": {},
   "outputs": [],
   "source": [
    "print('skopt %s' % skopt.__version__)\n",
    "print('sklearn %s' % sklearn.__version__)"
   ]
  },
  {
   "cell_type": "markdown",
   "id": "cefda6fb",
   "metadata": {},
   "source": [
    "# Load the dataset\n",
    "<hr style=\"border:2px solid black\"> </hr>"
   ]
  },
  {
   "cell_type": "markdown",
   "id": "e500e262",
   "metadata": {},
   "source": [
    "<div class=\"alert alert-block alert-info\">\n",
    "<font color=black>\n",
    "\n",
    "- We will use the ionosphere machine learning dataset. \n",
    "- This is a standard ML dataset comprising  351 rows of data with three numerical input variables and a target variable with two class values, e.g. binary classification.\n",
    "</font>\n",
    "</div>"
   ]
  },
  {
   "cell_type": "code",
   "execution_count": null,
   "id": "21c8bbdc",
   "metadata": {},
   "outputs": [],
   "source": [
    "dataframe = read_csv(\"../AI_learning_GitHub/DATASETS/ionosphere.csv\", header=None)\n",
    "dataframe.head(5)"
   ]
  },
  {
   "cell_type": "code",
   "execution_count": null,
   "id": "e0b90d7d",
   "metadata": {},
   "outputs": [],
   "source": [
    "# split into input and output elements\n",
    "data = dataframe.values\n",
    "X, y = data[:, :-1], data[:, -1]\n",
    "print(X.shape, y.shape)"
   ]
  },
  {
   "cell_type": "markdown",
   "id": "5a0beb9c",
   "metadata": {},
   "source": [
    "# Build a reference model\n",
    "<hr style=\"border:2px solid black\"> </hr>"
   ]
  },
  {
   "cell_type": "markdown",
   "id": "58c2894b",
   "metadata": {},
   "source": [
    "<div class=\"alert alert-block alert-info\">\n",
    "<font color=black>\n",
    "\n",
    "- We'll first build a reference model followed by the hyper-pramaterisation of these:\n",
    "- C, the regularization parameter.\n",
    "- kernel, the type of kernel used in the model.\n",
    "- degree, used for the polynomial kernel.\n",
    "- gamma, used in most other kernels.\n",
    "\n",
    "</font>\n",
    "</div>"
   ]
  },
  {
   "cell_type": "code",
   "execution_count": null,
   "id": "29ac9f2a",
   "metadata": {},
   "outputs": [],
   "source": [
    "# define model model\n",
    "model = SVC()\n",
    "# define test harness\n",
    "cv = RepeatedStratifiedKFold(n_splits=10, n_repeats=3, random_state=1)\n",
    "# evaluate model\n",
    "m_scores = cross_val_score(model, X, y, scoring='accuracy', cv=cv,\n",
    "                           n_jobs=-1, error_score='raise')\n",
    "print('Accuracy: %.3f (%.3f)' % (mean(m_scores), std(m_scores)))"
   ]
  },
  {
   "cell_type": "markdown",
   "id": "fabaad20",
   "metadata": {},
   "source": [
    "# Option #1 - gp_minimize\n",
    "<hr style=\"border:2px solid black\"> </hr>"
   ]
  },
  {
   "cell_type": "code",
   "execution_count": null,
   "id": "eccd7b73",
   "metadata": {},
   "outputs": [],
   "source": [
    "# define the space of hyperparameters to search\n",
    "search_space = list()\n",
    "search_space.append(Real(1e-6, 100.0, 'log-uniform', name='C'))\n",
    "search_space.append(Categorical(['linear', 'poly', 'rbf', 'sigmoid'], name='kernel'))\n",
    "search_space.append(Integer(1, 5, name='degree'))\n",
    "search_space.append(Real(1e-6, 100.0, 'log-uniform', name='gamma'))"
   ]
  },
  {
   "cell_type": "code",
   "execution_count": null,
   "id": "80804e48",
   "metadata": {},
   "outputs": [],
   "source": [
    "\"\"\"\n",
    "In our case, we want to evaluate the model using repeated stratified \n",
    "10-fold cross-validation on our ionosphere dataset.\n",
    "\"\"\""
   ]
  },
  {
   "cell_type": "code",
   "execution_count": null,
   "id": "8eed3678",
   "metadata": {},
   "outputs": [],
   "source": [
    "# define the function used to evaluate a given configuration\n",
    "@use_named_args(search_space)\n",
    "def evaluate_model(**params):\n",
    "    # configure the model with specific hyperparameters\n",
    "    model = SVC()\n",
    "    model.set_params(**params)\n",
    "    # define test harness\n",
    "    cv = RepeatedStratifiedKFold(n_splits=10, n_repeats=3, random_state=1)\n",
    "    # calculate 5-fold cross validation\n",
    "    result = cross_val_score(model, X, y, cv=cv, n_jobs=-1, scoring='accuracy')\n",
    "    # calculate the mean of the scores\n",
    "    estimate = mean(result)\n",
    "    # convert from a maximizing score to a minimizing score\n",
    "    return 1.0 - estimate"
   ]
  },
  {
   "cell_type": "code",
   "execution_count": null,
   "id": "f14e2a26",
   "metadata": {
    "scrolled": true
   },
   "outputs": [],
   "source": [
    "# perform optimization\n",
    "result = gp_minimize(evaluate_model, search_space)"
   ]
  },
  {
   "cell_type": "code",
   "execution_count": null,
   "id": "d802a9de",
   "metadata": {},
   "outputs": [],
   "source": [
    "dir(result)"
   ]
  },
  {
   "cell_type": "code",
   "execution_count": null,
   "id": "6d9e46ab",
   "metadata": {},
   "outputs": [],
   "source": [
    "# summarizing finding:\n",
    "print('Best Accuracy: %.3f' % (1.0 - result.fun))\n",
    "print('Best Parameters: %s' % (result.x))"
   ]
  },
  {
   "cell_type": "markdown",
   "id": "7bca4821",
   "metadata": {},
   "source": [
    "# Option #2 - BayesSearchCV\n",
    "<hr style=\"border:2px solid black\"> </hr>"
   ]
  },
  {
   "cell_type": "code",
   "execution_count": null,
   "id": "8a853c9c",
   "metadata": {},
   "outputs": [],
   "source": [
    "# define search space\n",
    "params = dict()\n",
    "params['C'] = (1e-6, 100.0, 'log-uniform')\n",
    "params['gamma'] = (1e-6, 100.0, 'log-uniform')\n",
    "params['degree'] = (1,5)\n",
    "params['kernel'] = ['linear', 'poly', 'rbf', 'sigmoid']"
   ]
  },
  {
   "cell_type": "code",
   "execution_count": null,
   "id": "8ceb4b36",
   "metadata": {},
   "outputs": [],
   "source": [
    "# define evaluation\n",
    "cv = RepeatedStratifiedKFold(n_splits=10, n_repeats=3, random_state=1)"
   ]
  },
  {
   "cell_type": "code",
   "execution_count": null,
   "id": "d2e21b93",
   "metadata": {},
   "outputs": [],
   "source": [
    "# define the search\n",
    "search = BayesSearchCV(estimator=SVC(), search_spaces=params, n_jobs=-1, cv=cv, iid=False)"
   ]
  },
  {
   "cell_type": "code",
   "execution_count": null,
   "id": "7cf5d772",
   "metadata": {},
   "outputs": [],
   "source": [
    "# perform the search\n",
    "search.fit(X, y)"
   ]
  },
  {
   "cell_type": "code",
   "execution_count": null,
   "id": "ee21c85f",
   "metadata": {
    "scrolled": true
   },
   "outputs": [],
   "source": [
    "dir(search)"
   ]
  },
  {
   "cell_type": "code",
   "execution_count": null,
   "id": "39bb8754",
   "metadata": {},
   "outputs": [],
   "source": [
    "# report the best result\n",
    "print(search.best_score_)\n",
    "print(search.best_params_)"
   ]
  },
  {
   "cell_type": "markdown",
   "id": "8caf24cd",
   "metadata": {},
   "source": [
    "# References\n",
    "<hr style=\"border:2px solid black\"> </hr>"
   ]
  },
  {
   "cell_type": "markdown",
   "id": "bb64f2d6",
   "metadata": {},
   "source": [
    "<div class=\"alert alert-warning\">\n",
    "<font color=black>\n",
    "\n",
    "- Reference: https://machinelearningmastery.com/scikit-optimize-for-hyperparameter-tuning-in-machine-learning/ \n",
    "\n",
    "</font>\n",
    "</div>"
   ]
  },
  {
   "cell_type": "code",
   "execution_count": null,
   "id": "bd1ed88b",
   "metadata": {},
   "outputs": [],
   "source": []
  }
 ],
 "metadata": {
  "hide_input": false,
  "kernelspec": {
   "display_name": "trainingAI",
   "language": "python",
   "name": "trainingai"
  },
  "language_info": {
   "codemirror_mode": {
    "name": "ipython",
    "version": 3
   },
   "file_extension": ".py",
   "mimetype": "text/x-python",
   "name": "python",
   "nbconvert_exporter": "python",
   "pygments_lexer": "ipython3",
   "version": "3.9.7"
  },
  "toc": {
   "base_numbering": 1,
   "nav_menu": {},
   "number_sections": true,
   "sideBar": true,
   "skip_h1_title": false,
   "title_cell": "Table of Contents",
   "title_sidebar": "Contents",
   "toc_cell": true,
   "toc_position": {},
   "toc_section_display": true,
   "toc_window_display": true
  },
  "varInspector": {
   "cols": {
    "lenName": 16,
    "lenType": 16,
    "lenVar": 40
   },
   "kernels_config": {
    "python": {
     "delete_cmd_postfix": "",
     "delete_cmd_prefix": "del ",
     "library": "var_list.py",
     "varRefreshCmd": "print(var_dic_list())"
    },
    "r": {
     "delete_cmd_postfix": ") ",
     "delete_cmd_prefix": "rm(",
     "library": "var_list.r",
     "varRefreshCmd": "cat(var_dic_list()) "
    }
   },
   "types_to_exclude": [
    "module",
    "function",
    "builtin_function_or_method",
    "instance",
    "_Feature"
   ],
   "window_display": false
  }
 },
 "nbformat": 4,
 "nbformat_minor": 5
}
