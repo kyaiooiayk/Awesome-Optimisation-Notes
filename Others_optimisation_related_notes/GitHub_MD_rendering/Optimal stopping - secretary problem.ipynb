{
 "cells": [
  {
   "cell_type": "markdown",
   "id": "01a74eca",
   "metadata": {
    "toc": true
   },
   "source": [
    "<h1>Table of Contents<span class=\"tocSkip\"></span></h1>\n",
""   ]
  },
  {
   "cell_type": "markdown",
   "id": "a679e5ab",
   "metadata": {},
   "source": [
    "# Introduction\n",
    "<hr style = \"border:2px solid black\" ></hr>"
   ]
  },
  {
   "cell_type": "markdown",
   "id": "9f155779",
   "metadata": {},
   "source": [
    "\n",
    "**What?** Optimal stopping - secretary problem\n",
    "\n",
""   ]
  },
  {
   "cell_type": "markdown",
   "id": "c28f5994",
   "metadata": {},
   "source": [
    "# Optimal stopping\n",
    "<hr style = \"border:2px solid black\" ></hr>"
   ]
  },
  {
   "cell_type": "markdown",
   "id": "f1aa60b2",
   "metadata": {},
   "source": [
    "\n",
    "- The secretary problem is a hypothetical question regarding how best to choose a candidate for a job position. \n",
    "\n",
    "- In short, a known number of candidates are interviewed one at a time in a random order to fill one position. \n",
    "\n",
    "- The interviewer knows nothing about the abilities of the candidates to come but can rank those that have been seen from best to worst. \n",
    "    \n",
    "- After each interview, the candidate is either rejected or accepted and this decision is final. \n",
    "    \n",
    "- The solution to this problem will **maximise the probability** of selecting the best candidate.\n",
    "\n",
    "- The **optimal solution** is to reject the first `n/e` applicants (`e ~ 2.718`) and choose the first candidate who is better than the best candidate from the n/e rejected candidates. If there is no candidate who is better then choose the last candidate.\n",
    "    \n",
""   ]
  },
  {
   "cell_type": "markdown",
   "id": "25ec2bd4",
   "metadata": {},
   "source": [
    "# Imports\n",
    "<hr style = \"border:2px solid black\" ></hr>"
   ]
  },
  {
   "cell_type": "code",
   "execution_count": 1,
   "id": "e2d88be5",
   "metadata": {
    "ExecuteTime": {
     "end_time": "2022-09-04T14:24:04.039547Z",
     "start_time": "2022-09-04T14:24:03.212564Z"
    }
   },
   "outputs": [],
   "source": [
    "import numpy as np\n",
    "import matplotlib.pyplot as plt"
   ]
  },
  {
   "cell_type": "markdown",
   "id": "3ba2efa0",
   "metadata": {},
   "source": [
    "# Optimal strategy\n",
    "<hr style = \"border:2px solid black\" ></hr>"
   ]
  },
  {
   "cell_type": "code",
   "execution_count": 2,
   "id": "be260858",
   "metadata": {
    "ExecuteTime": {
     "end_time": "2022-09-04T14:24:04.046525Z",
     "start_time": "2022-09-04T14:24:04.041985Z"
    }
   },
   "outputs": [],
   "source": [
    "def choose_candidate(n):\n",
    "    '''Choose a candidate from a list of n candidates using\n",
    "    the optimal strategy.'''\n",
    "\n",
    "    candidates = np.arange(1, n+1)\n",
    "    \n",
    "    # simulate random order of candidates being interviewed\n",
    "    np.random.shuffle(candidates)\n",
    "    \n",
    "    # For our n candidates we reject the first int(round(n/np.e)) candidates. \n",
    "    stop = int(round(n/np.e))\n",
    "    \n",
    "    # The best candidate from this list will be the minimum value (since lower is better)\n",
    "    best_from_rejected = np.min(candidates[:stop])\n",
    "    rest = candidates[stop:]\n",
    "    \n",
    "    \"\"\"\n",
    "    The last line will return an error if there is no candidate in rest who is better \n",
    "    than best_from_rejected. Hence we catch this error and return the last candidate.\n",
    "    \"\"\"\n",
    "    try:\n",
    "        return rest[rest < best_from_rejected][0]\n",
    "    except IndexError:\n",
    "        return candidates[-1]"
   ]
  },
  {
   "cell_type": "code",
   "execution_count": 3,
   "id": "e620cdb8",
   "metadata": {
    "ExecuteTime": {
     "end_time": "2022-09-04T14:24:05.651045Z",
     "start_time": "2022-09-04T14:24:04.048295Z"
    }
   },
   "outputs": [
    {
     "data": {
      "image/png": "[encoded data removed]",
      "text/plain": [
       "<Figure size 720x432 with 1 Axes>"
      ]
     },
     "metadata": {
      "needs_background": "light"
     },
     "output_type": "display_data"
    }
   ],
   "source": [
    "# choose from 100 candidates and run simulation 100,000 times\n",
    "sim = np.array([choose_candidate(n=100) for i in range(100000)])\n",
    "\n",
    "plt.figure(figsize=(10, 6))\n",
    "plt.hist(sim, bins=100)\n",
    "plt.xticks(np.arange(0, 101, 10))\n",
    "plt.ylim(0, 40000)\n",
    "plt.xlabel('Chosen candidate')\n",
    "plt.ylabel('frequency')\n",
    "plt.show()\n"
   ]
  },
  {
   "cell_type": "markdown",
   "id": "451853ed",
   "metadata": {},
   "source": [
    "\n",
    "- We can see that candidate no. 1 is chosen most often. \n",
    "    \n",
    "- In fact the distribution is heavily skewed towards the best few candidates, so even if you don't get the very best there is a high chance you will select one of the top 10% of candidates. \n",
    "    \n",
    "- This is further illustrated by the plotting the cumulative density function of this distribution.\n",
    "    \n",
""   ]
  },
  {
   "cell_type": "code",
   "execution_count": 4,
   "id": "db77ea41",
   "metadata": {
    "ExecuteTime": {
     "end_time": "2022-09-04T14:24:05.774055Z",
     "start_time": "2022-09-04T14:24:05.653654Z"
    }
   },
   "outputs": [
    {
     "data": {
      "image/png": "[encoded data removed]",
      "text/plain": [
       "<Figure size 720x432 with 1 Axes>"
      ]
     },
     "metadata": {
      "needs_background": "light"
     },
     "output_type": "display_data"
    }
   ],
   "source": [
    "plt.figure(figsize=(10, 6))\n",
    "plt.plot(np.cumsum(np.histogram(sim, bins=100)[0])/100000)\n",
    "plt.ylim(0,1)\n",
    "plt.xlim(0, 100)\n",
    "plt.yticks(np.arange(0, 1.1, 0.1))\n",
    "plt.xticks(np.arange(0, 101, 10))\n",
    "plt.xlabel('Chosen candidate')\n",
    "plt.ylabel('Cumulative probability')\n",
    "plt.show()"
   ]
  },
  {
   "cell_type": "markdown",
   "id": "952e489f",
   "metadata": {},
   "source": [
    "\n",
    "- The probability of choosing one of the best candidates rises very quickly up to about the 10th candidate before increasing in a **linear fashion**.\n",
    "\n",
    "- The rate of change o this plot is telling us how efficient we are going to be in our search. In the early search we are very efficient as the curve has an exponential growth, then the rate is constant, which means we improve in a linear fashion.\n",
    "\n",
""   ]
  },
  {
   "cell_type": "markdown",
   "id": "5de4caae",
   "metadata": {},
   "source": [
    "# Different strategy - non optimal\n",
    "<hr style = \"border:2px solid black\" ></hr>"
   ]
  },
  {
   "cell_type": "markdown",
   "id": "b171762d",
   "metadata": {},
   "source": [
    "\n",
    "- Let's now see if we are likely to choose the best candidate with a different strategy. Instead of rejecting the first 36.8% (1/e) of candidates, we can reject the first 10%, 20%, 40%, 50% etc. of candidates.\n",
    "\n",
    "- By adjusting our `choose_candidate` function we can add an argument to specify the proportion of candidates we initially reject.\n",
    "\n",
""   ]
  },
  {
   "cell_type": "code",
   "execution_count": 5,
   "id": "fdb7ba7a",
   "metadata": {
    "ExecuteTime": {
     "end_time": "2022-09-04T14:24:05.778991Z",
     "start_time": "2022-09-04T14:24:05.775690Z"
    }
   },
   "outputs": [],
   "source": [
    "def choose_candidate(n, reject=np.e):\n",
    "    '''Choose a candidate from a list of n candidates using\n",
    "    a specified strategy.\n",
    "\n",
    "    reject: percentage of candidates to initially reject (optimal strategy by default)\n",
    "    '''\n",
    "\n",
    "    candidates = np.arange(1, n+1)\n",
    "    np.random.shuffle(candidates)\n",
    "\n",
    "    if reject == np.e:\n",
    "        stop = int(round(n/reject))\n",
    "    else:\n",
    "        stop = int(round(reject*n/100))\n",
    "\n",
    "    best_from_rejected = np.min(candidates[:stop])\n",
    "    rest = candidates[stop:]\n",
    "\n",
    "    try:\n",
    "        return rest[rest < best_from_rejected][0]\n",
    "    except IndexError:\n",
    "        return candidates[-1]"
   ]
  },
  {
   "cell_type": "markdown",
   "id": "94a5f457",
   "metadata": {},
   "source": [
    "\n",
    "- Let's now plot the probability of choosing the best candidate (i.e. candidate no. 1) by the percentage of candidates rejected.\n",
    "    \n",
    "- As we would expect the optimal strategy is somewhere in between 35% and 40% i.e. `1/e`. The probability of choosing the best candidate when we reject the first n/e candidates also happens to be `1/e`.\n",
    "\n",
""   ]
  },
  {
   "cell_type": "code",
   "execution_count": 6,
   "id": "37283215",
   "metadata": {
    "ExecuteTime": {
     "end_time": "2022-09-04T14:24:30.876953Z",
     "start_time": "2022-09-04T14:24:05.780764Z"
    }
   },
   "outputs": [
    {
     "data": {
      "image/png": "[encoded data removed]",
      "text/plain": [
       "<Figure size 720x432 with 1 Axes>"
      ]
     },
     "metadata": {
      "needs_background": "light"
     },
     "output_type": "display_data"
    }
   ],
   "source": [
    "best_candidate = []\n",
    "for r in range(5, 101, 5):\n",
    "    sim = np.array([choose_candidate(n=100, reject=r) for i in range(100000)])\n",
    "    # np.histogram counts frequency of each candidate\n",
    "    best_candidate.append(np.histogram(sim, bins=100)[0][0]/100000)\n",
    "\n",
    "plt.figure(figsize=(10, 6))\n",
    "plt.scatter(range(5, 101, 5), best_candidate)\n",
    "plt.xlim(0, 100)\n",
    "plt.xticks(np.arange(0, 101, 10))\n",
    "plt.ylim(0, 0.4)\n",
    "plt.xlabel('% of candidates rejected')\n",
    "plt.ylabel('Probability of choosing best candidate')\n",
    "plt.grid(True)\n",
    "plt.axvline(100/np.e, ls='--', c='black')\n",
    "plt.show()\n"
   ]
  },
  {
   "cell_type": "markdown",
   "id": "40b0cdc4",
   "metadata": {},
   "source": [
    "# Pratical approach\n",
    "<hr style = \"border:2px solid black\" ></hr>"
   ]
  },
  {
   "cell_type": "markdown",
   "id": "da273295",
   "metadata": {},
   "source": [
    "\n",
    "- As hiring managers may be content with selecting one of the best **rather than** the very best candidate.\n",
    "\n",
    "- Let's see what our optimal rejection strategy should be given we want the best 1, 2, 5, or 10 candidates out of 100.\n",
    "\n",
""   ]
  },
  {
   "cell_type": "code",
   "execution_count": 7,
   "id": "5bd57210",
   "metadata": {
    "ExecuteTime": {
     "end_time": "2022-09-04T14:24:30.881563Z",
     "start_time": "2022-09-04T14:24:30.878508Z"
    }
   },
   "outputs": [],
   "source": [
    "def get_best_candidates(best_n=1):\n",
    "    '''Return a list of probabilities for different rejection strategies and specify what percentage of the\n",
    "    best candidates we want to select.'''\n",
    "\n",
    "    best_candidate = []\n",
    "    for c in [1] + list(range(5, 101, 5)):\n",
    "        sim = np.array([choose_candidate(100, reject=c) for i in range(10000)])\n",
    "        best_candidate.append(len(sim[sim <= best_n])/100)\n",
    "\n",
    "    return best_candidate"
   ]
  },
  {
   "cell_type": "code",
   "execution_count": 8,
   "id": "08d120d4",
   "metadata": {
    "ExecuteTime": {
     "end_time": "2022-09-04T14:24:41.809959Z",
     "start_time": "2022-09-04T14:24:30.883365Z"
    }
   },
   "outputs": [
    {
     "data": {
      "image/png": "[encoded data removed]",
      "text/plain": [
       "<Figure size 720x432 with 1 Axes>"
      ]
     },
     "metadata": {
      "needs_background": "light"
     },
     "output_type": "display_data"
    }
   ],
   "source": [
    "plt.figure(figsize=(10, 6))\n",
    "for i in [1, 2, 5, 10]:\n",
    "    plt.scatter(list(range(0, 101, 5)), get_best_candidates(i), label=str(i))\n",
    "\n",
    "plt.xlim(0, 100)\n",
    "plt.ylim(0, 100)\n",
    "plt.xticks(np.arange(0, 101, 5))\n",
    "plt.yticks(np.arange(0, 101, 10))\n",
    "plt.xlabel('% of candidates rejected')\n",
    "plt.ylabel('Probability of choosing best candidates')\n",
    "plt.legend(title='No. of best candidates')\n",
    "plt.grid(True)\n",
    "plt.tight_layout()\n",
    "plt.show()"
   ]
  },
  {
   "cell_type": "markdown",
   "id": "325972d1",
   "metadata": {
    "ExecuteTime": {
     "end_time": "2022-09-04T14:17:41.146575Z",
     "start_time": "2022-09-04T14:17:41.142322Z"
    }
   },
   "source": [
    "\n",
    "- The blue curve is as before i.e. when we want the one best candidate. \n",
    "\n",
    "- If we wanted one of the best 2 candidates, the optimal strategy is to reject the first 30% of candidates which will give us a greater than evens chance of getting what we want. \n",
    "    \n",
    "- For the best 5 and 10 candidates we can increase that probaility to 70% and over 80% respectively by using the optimal strategy.\n",
    "\n",
""   ]
  },
  {
   "cell_type": "markdown",
   "id": "ebe42d24",
   "metadata": {},
   "source": [
    "# References\n",
    "<hr style = \"border:2px solid black\" ></hr>"
   ]
  },
  {
   "cell_type": "markdown",
   "id": "8a313c99",
   "metadata": {},
   "source": [
    "\n",
    "- [Original python code](http://www.imrankhan.dev/pages/Solving%20the%20secretary%20problem%20with%20Python.html)\n",
    "- [CORRECTING FOR SELECTION BIAS, BACKTEST OVERFITTING AND NON-NORMALITY](https://www.davidhbailey.com/dhbpapers/deflated-sharpe.pdf)\n",
    "- [The secretary problem](https://en.wikipedia.org/wiki/Secretary_problem)\n",
    "\n",
""   ]
  },
  {
   "cell_type": "code",
   "execution_count": null,
   "id": "c7ad671b",
   "metadata": {},
   "outputs": [],
   "source": []
  }
 ],
 "metadata": {
  "kernelspec": {
   "display_name": "trainingAI",
   "language": "python",
   "name": "trainingai"
  },
  "language_info": {
   "codemirror_mode": {
    "name": "ipython",
    "version": 3
   },
   "file_extension": ".py",
   "mimetype": "text/x-python",
   "name": "python",
   "nbconvert_exporter": "python",
   "pygments_lexer": "ipython3",
   "version": "3.9.7"
  },
  "toc": {
   "base_numbering": 1,
   "nav_menu": {},
   "number_sections": true,
   "sideBar": true,
   "skip_h1_title": false,
   "title_cell": "Table of Contents",
   "title_sidebar": "Contents",
   "toc_cell": true,
   "toc_position": {},
   "toc_section_display": true,
   "toc_window_display": true
  },
  "varInspector": {
   "cols": {
    "lenName": 16,
    "lenType": 16,
    "lenVar": 40
   },
   "kernels_config": {
    "python": {
     "delete_cmd_postfix": "",
     "delete_cmd_prefix": "del ",
     "library": "var_list.py",
     "varRefreshCmd": "print(var_dic_list())"
    },
    "r": {
     "delete_cmd_postfix": ") ",
     "delete_cmd_prefix": "rm(",
     "library": "var_list.r",
     "varRefreshCmd": "cat(var_dic_list()) "
    }
   },
   "types_to_exclude": [
    "module",
    "function",
    "builtin_function_or_method",
    "instance",
    "_Feature"
   ],
   "window_display": false
  }
 },
 "nbformat": 4,
 "nbformat_minor": 5
}
