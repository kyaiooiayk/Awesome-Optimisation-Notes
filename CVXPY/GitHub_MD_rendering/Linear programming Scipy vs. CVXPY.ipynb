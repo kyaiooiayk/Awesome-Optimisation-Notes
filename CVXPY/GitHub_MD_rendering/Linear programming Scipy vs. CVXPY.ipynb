{
 "cells": [
  {
   "cell_type": "markdown",
   "metadata": {},
   "source": [
    "# Introduction\n",
    "<hr style = \"border:2px solid black\" ></hr>"
   ]
  },
  {
   "cell_type": "markdown",
   "metadata": {},
   "source": [
    "\n",
    "**What?** Linear programming Scipy vs. CVXPY\n",
    "\n",
""   ]
  },
  {
   "cell_type": "markdown",
   "metadata": {},
   "source": [
    "# Imports\n",
    "<hr style = \"border:2px solid black\" ></hr>"
   ]
  },
  {
   "cell_type": "code",
   "execution_count": 6,
   "metadata": {
    "ExecuteTime": {
     "end_time": "2022-09-08T20:57:15.564732Z",
     "start_time": "2022-09-08T20:57:15.352105Z"
    },
    "id": "XuF0xuyz8EOd"
   },
   "outputs": [],
   "source": [
    "from scipy.optimize import linprog\n",
    "from time import time\n",
    "import cvxpy as cp "
   ]
  },
  {
   "cell_type": "markdown",
   "metadata": {},
   "source": [
    "# Linear programming problem\n",
    "<hr style = \"border:2px solid black\" ></hr>"
   ]
  },
  {
   "cell_type": "markdown",
   "metadata": {},
   "source": [
    "\n",
    "- Suppose the following LP problem:\n",
    "\n",
    "```\n",
    "f = -1x[0] + 4x[1]\n",
    " \n",
    "-3x[0] + 1x[1] <= 6\n",
    "1x[0] + 2x[1] <= 4\n",
    "          x[1] >= -3\n",
    "-inf <= x[0] <= inf\n",
    "```\n",
    "\n",
""   ]
  },
  {
   "cell_type": "markdown",
   "metadata": {},
   "source": [
    "# Scipy-Optimize\n",
    "<hr style = \"border:2px solid black\" ></hr>"
   ]
  },
  {
   "cell_type": "markdown",
   "metadata": {},
   "source": [
    "\n",
    "- In scipy, the linear programming is implemented in linprog module. \n",
    "- There are two methods: `simplex` and `interior-point`. \n",
    "- The simplex method is more like a brute-force search algorithm, it has high complexity, therefore not suitable for high dimensional problem. \n",
    "- The `interior-point` method is makeing the problem into primal-dual formulation and place a log barrier for the inequality constraints. \n",
    "\n",
""   ]
  },
  {
   "cell_type": "code",
   "execution_count": 2,
   "metadata": {
    "ExecuteTime": {
     "end_time": "2022-09-08T20:55:31.317663Z",
     "start_time": "2022-09-08T20:55:31.300790Z"
    }
   },
   "outputs": [
    {
     "name": "stdout",
     "output_type": "stream",
     "text": [
      "Primal Feasibility  Dual Feasibility    Duality Gap         Step             Path Parameter      Objective          \n",
      "1.0                 1.0                 1.0                 -                1.0                 -8.0                \n",
      "0.09885158404625    0.09885158404625    0.09885158404625    0.903461537018   0.09885158404625    -6.284698425658     \n",
      "0.05788429348353    0.05788429348355    0.05788429348355    0.4273037994111  0.05788429348355    -7.864724729573     \n",
      "0.04539867008243    0.04539867008244    0.04539867008244    0.2387091287399  0.04539867008244    -12.78916804766     \n",
      "0.00666151448168    0.006661514481681   0.006661514481682   0.8665142913493  0.006661514481682   -21.3520715063      \n",
      "6.299626472829e-06  6.299626472597e-06  6.299626472583e-06  1.0              6.299626472568e-06  -21.99681708159     \n",
      "3.150184161152e-10  3.150192895998e-10  3.150192773305e-10  0.9999499939736  3.150193133197e-10  -21.99999984082     \n",
      "Optimization terminated successfully.\n",
      "         Current function value: -22.000000  \n",
      "         Iterations: 6\n"
     ]
    }
   ],
   "source": [
    "c = [-1, 4]\n",
    "A = [[-3, 1], [1, 2]]\n",
    "b = [6, 4]\n",
    "\n",
    "x0_bounds = (None, None)\n",
    "x1_bounds = (-3, None)\n",
    "\n",
    "# The default method is the ``simplex``. It is working good for low dimensional problem.\n",
    "#\n",
    "# Constraint is A x <= b\n",
    "\n",
    "\n",
    "res = linprog(c, A_ub=A, b_ub=b, bounds=(x0_bounds, x1_bounds),\n",
    "              options={\"disp\": True})"
   ]
  },
  {
   "cell_type": "code",
   "execution_count": 3,
   "metadata": {
    "ExecuteTime": {
     "end_time": "2022-09-08T20:56:12.448630Z",
     "start_time": "2022-09-08T20:56:12.431604Z"
    }
   },
   "outputs": [
    {
     "name": "stdout",
     "output_type": "stream",
     "text": [
      "Primal Feasibility  Dual Feasibility    Duality Gap         Step             Path Parameter      Objective          \n",
      "1.0                 1.0                 1.0                 -                1.0                 0.0                 \n",
      "0.3484953214028     0.3484953214028     0.3484953214028     0.6594789167432  0.3484953214028     -6.25344838669      \n",
      "0.1818499603898     0.1818499603901     0.1818499603901     0.5094733134214  0.1818499603901     -26.09989739784     \n",
      "0.01369102576924    0.01369102576927    0.01369102576927    0.9282523323965  0.01369102576927    -38.67896382329     \n",
      "5.714386370907e-06  5.714386365036e-06  5.714386365032e-06  0.9995858615637  5.714386365035e-06  -39.99964246769     \n",
      "2.857116028198e-10  2.857197356541e-10  2.857197356534e-10  0.999949999927   2.857197356539e-10  -39.99999998212     \n",
      "1.864590841776e-14  1.428612222168e-14  1.428598678273e-14  0.99995          1.428598678275e-14  -40.0               \n",
      "Optimization terminated successfully.\n",
      "         Current function value: -40.000000  \n",
      "         Iterations: 6\n",
      "elapsed time is 0.01246500015258789 seconds\n"
     ]
    }
   ],
   "source": [
    "# If we try a random objective function with slightly higher dimension n =40\n",
    "\n",
    "n = 40\n",
    "m = 3\n",
    "\n",
    "c = np.ones(n)\n",
    "A = np.random.random([m, n])\n",
    "b = -np.ones(m)\n",
    "\n",
    "bounds = np.array([[-1, 1]] * n)\n",
    "\n",
    "\n",
    "start = time()\n",
    "\n",
    "res = linprog(c, A_ub=A, b_ub=b, bounds=bounds,\n",
    "              options={\"disp\": True})\n",
    "\n",
    "end = time()\n",
    "print('elapsed time is', end-start, 'seconds')"
   ]
  },
  {
   "cell_type": "code",
   "execution_count": 4,
   "metadata": {
    "ExecuteTime": {
     "end_time": "2022-09-08T20:56:23.036734Z",
     "start_time": "2022-09-08T20:56:23.021162Z"
    }
   },
   "outputs": [
    {
     "name": "stdout",
     "output_type": "stream",
     "text": [
      "Primal Feasibility  Dual Feasibility    Duality Gap         Step             Path Parameter      Objective          \n",
      "1.0                 1.0                 1.0                 -                1.0                 0.0                 \n",
      "0.3484953214028     0.3484953214028     0.3484953214028     0.6594789167432  0.3484953214028     -6.25344838669      \n",
      "0.1818499603898     0.1818499603901     0.1818499603901     0.5094733134214  0.1818499603901     -26.09989739784     \n",
      "0.01369102576924    0.01369102576927    0.01369102576927    0.9282523323965  0.01369102576927    -38.67896382329     \n",
      "5.714386370907e-06  5.714386365036e-06  5.714386365032e-06  0.9995858615637  5.714386365035e-06  -39.99964246769     \n",
      "2.857116028198e-10  2.857197356541e-10  2.857197356534e-10  0.999949999927   2.857197356539e-10  -39.99999998212     \n",
      "1.864590841776e-14  1.428612222168e-14  1.428598678273e-14  0.99995          1.428598678275e-14  -40.0               \n",
      "Optimization terminated successfully.\n",
      "         Current function value: -40.000000  \n",
      "         Iterations: 6\n",
      "elapsed time is 0.012276887893676758 seconds\n"
     ]
    }
   ],
   "source": [
    "# Using the interior method is faster than the simplex method.\n",
    "start = time()\n",
    "res = linprog(c, A_ub=A, b_ub=b, bounds=bounds,\n",
    "              method='interior-point', options={\"disp\": True})\n",
    "\n",
    "end = time()\n",
    "print('elapsed time is', end-start, 'seconds')"
   ]
  },
  {
   "cell_type": "markdown",
   "metadata": {
    "id": "WKfiYHlRAEyd"
   },
   "source": [
    "# CVXPY\n",
    "<hr style = \"border:2px solid black\" ></hr>"
   ]
  },
  {
   "cell_type": "code",
   "execution_count": 7,
   "metadata": {
    "ExecuteTime": {
     "end_time": "2022-09-08T20:57:20.074108Z",
     "start_time": "2022-09-08T20:57:20.044335Z"
    },
    "colab": {
     "base_uri": "https://localhost:8080/",
     "height": 35
    },
    "id": "RiGKCuxjBwr0",
    "outputId": "b4b3d972-3ac9-4f31-e517-3f322dc08f0c"
   },
   "outputs": [
    {
     "name": "stdout",
     "output_type": "stream",
     "text": [
      "===============================================================================\n",
      "                                     CVXPY                                     \n",
      "                                     v1.2.1                                    \n",
      "===============================================================================\n",
      "(CVXPY) Sep 08 09:57:20 PM: Your problem has 40 variables, 3 constraints, and 0 parameters.\n",
      "(CVXPY) Sep 08 09:57:20 PM: It is compliant with the following grammars: DCP, DQCP\n",
      "(CVXPY) Sep 08 09:57:20 PM: (If you need to solve this problem multiple times, but with different data, consider using parameters.)\n",
      "(CVXPY) Sep 08 09:57:20 PM: CVXPY will first compile your problem; then, it will invoke a numerical solver to obtain a solution.\n",
      "-------------------------------------------------------------------------------\n",
      "                                  Compilation                                  \n",
      "-------------------------------------------------------------------------------\n",
      "(CVXPY) Sep 08 09:57:20 PM: Compiling problem (target solver=ECOS).\n",
      "(CVXPY) Sep 08 09:57:20 PM: Reduction chain: Dcp2Cone -> CvxAttr2Constr -> ConeMatrixStuffing -> ECOS\n",
      "(CVXPY) Sep 08 09:57:20 PM: Applying reduction Dcp2Cone\n",
      "(CVXPY) Sep 08 09:57:20 PM: Applying reduction CvxAttr2Constr\n",
      "(CVXPY) Sep 08 09:57:20 PM: Applying reduction ConeMatrixStuffing\n",
      "(CVXPY) Sep 08 09:57:20 PM: Applying reduction ECOS\n",
      "(CVXPY) Sep 08 09:57:20 PM: Finished problem compilation (took 1.472e-02 seconds).\n",
      "-------------------------------------------------------------------------------\n",
      "                                Numerical solver                               \n",
      "-------------------------------------------------------------------------------\n",
      "(CVXPY) Sep 08 09:57:20 PM: Invoking solver ECOS  to obtain a solution.\n",
      "-------------------------------------------------------------------------------\n",
      "                                    Summary                                    \n",
      "-------------------------------------------------------------------------------\n",
      "(CVXPY) Sep 08 09:57:20 PM: Problem status: optimal\n",
      "(CVXPY) Sep 08 09:57:20 PM: Optimal value: -4.000e+01\n",
      "(CVXPY) Sep 08 09:57:20 PM: Compilation took 1.472e-02 seconds\n",
      "(CVXPY) Sep 08 09:57:20 PM: Solver (including time spent in interface) took 5.360e-04 seconds\n",
      "elapsed time is 0.023550987243652344 seconds\n",
      "\n",
      "The optimal value is -39.999999980206354\n",
      "A solution x is\n",
      "[-1. -1. -1. -1. -1. -1. -1. -1. -1. -1. -1. -1. -1. -1. -1. -1. -1. -1.\n",
      " -1. -1. -1. -1. -1. -1. -1. -1. -1. -1. -1. -1. -1. -1. -1. -1. -1. -1.\n",
      " -1. -1. -1. -1.]\n",
      "A dual solution is\n",
      "[5.76907603e-11 1.56624996e-10 8.81342713e-11]\n"
     ]
    }
   ],
   "source": [
    "# The solution is solved through SQP method\n",
    "\n",
    "x = cp.Variable(n)\n",
    "prob = cp.Problem(cp.Minimize(c.T@x),\n",
    "                  [A@x <= b,\n",
    "                  x <= 1,\n",
    "                  x >= -1])\n",
    "start = time()\n",
    "prob.solve(verbose=True)\n",
    "end = time()\n",
    "print('elapsed time is', end-start, 'seconds')\n",
    "\n",
    "# Print result.\n",
    "print(\"\\nThe optimal value is\", prob.value)\n",
    "print(\"A solution x is\")\n",
    "print(x.value)\n",
    "print(\"A dual solution is\")\n",
    "print(prob.constraints[0].dual_value)"
   ]
  },
  {
   "cell_type": "markdown",
   "metadata": {},
   "source": [
    "# References\n",
    "<hr style = \"border:2px solid black\" ></hr>"
   ]
  },
  {
   "cell_type": "markdown",
   "metadata": {
    "id": "Iu23rFlljIew"
   },
   "source": [
    "\n",
    "- https://colab.research.google.com/drive/1bFcr1J0a6Euwp09vY_IID-LRxCKCdm_I#scrollTo=7vtqCZnN5-Sz\n",
    "\n",
""   ]
  },
  {
   "cell_type": "code",
   "execution_count": null,
   "metadata": {},
   "outputs": [],
   "source": []
  }
 ],
 "metadata": {
  "colab": {
   "collapsed_sections": [],
   "provenance": [],
   "toc_visible": true
  },
  "kernelspec": {
   "display_name": "Python 3 (ipykernel)",
   "language": "python",
   "name": "python3"
  },
  "language_info": {
   "codemirror_mode": {
    "name": "ipython",
    "version": 3
   },
   "file_extension": ".py",
   "mimetype": "text/x-python",
   "name": "python",
   "nbconvert_exporter": "python",
   "pygments_lexer": "ipython3",
   "version": "3.9.7"
  },
  "toc": {
   "base_numbering": 1,
   "nav_menu": {},
   "number_sections": true,
   "sideBar": true,
   "skip_h1_title": false,
   "title_cell": "Table of Contents",
   "title_sidebar": "Contents",
   "toc_cell": false,
   "toc_position": {},
   "toc_section_display": true,
   "toc_window_display": true
  },
  "varInspector": {
   "cols": {
    "lenName": 16,
    "lenType": 16,
    "lenVar": 40
   },
   "kernels_config": {
    "python": {
     "delete_cmd_postfix": "",
     "delete_cmd_prefix": "del ",
     "library": "var_list.py",
     "varRefreshCmd": "print(var_dic_list())"
    },
    "r": {
     "delete_cmd_postfix": ") ",
     "delete_cmd_prefix": "rm(",
     "library": "var_list.r",
     "varRefreshCmd": "cat(var_dic_list()) "
    }
   },
   "types_to_exclude": [
    "module",
    "function",
    "builtin_function_or_method",
    "instance",
    "_Feature"
   ],
   "window_display": false
  }
 },
 "nbformat": 4,
 "nbformat_minor": 1
}
