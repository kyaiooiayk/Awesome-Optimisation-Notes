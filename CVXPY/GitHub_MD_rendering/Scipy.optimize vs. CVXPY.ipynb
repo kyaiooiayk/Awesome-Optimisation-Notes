{
 "cells": [
  {
   "cell_type": "markdown",
   "metadata": {
    "toc": true
   },
   "source": [
    "<h1>Table of Contents<span class=\"tocSkip\"></span></h1>\n",
""   ]
  },
  {
   "cell_type": "markdown",
   "metadata": {},
   "source": [
    "# Introduction\n",
    "<hr style = \"border:2px solid black\" ></hr>"
   ]
  },
  {
   "cell_type": "markdown",
   "metadata": {},
   "source": [
    "\n",
    "**What?** Scipy.optimize vs. CVXPY\n",
""   ]
  },
  {
   "cell_type": "markdown",
   "metadata": {},
   "source": [
    "# Imports\n",
    "<hr style = \"border:2px solid black\" ></hr>"
   ]
  },
  {
   "cell_type": "code",
   "execution_count": 1,
   "metadata": {
    "ExecuteTime": {
     "end_time": "2022-09-08T19:56:50.223339Z",
     "start_time": "2022-09-08T19:56:49.841374Z"
    }
   },
   "outputs": [],
   "source": [
    "import numpy as np\n",
    "from scipy.optimize import minimize\n",
    "import time\n",
    "import numpy as np\n",
    "from cvxpy import *  "
   ]
  },
  {
   "cell_type": "markdown",
   "metadata": {},
   "source": [
    "# Scipy.optimize\n",
    "<hr style = \"border:2px solid black\" ></hr>"
   ]
  },
  {
   "cell_type": "markdown",
   "metadata": {},
   "source": [
    "## No Jacobian"
   ]
  },
  {
   "cell_type": "code",
   "execution_count": 35,
   "metadata": {
    "ExecuteTime": {
     "end_time": "2022-09-08T20:08:38.528598Z",
     "start_time": "2022-09-08T20:08:38.519418Z"
    }
   },
   "outputs": [
    {
     "name": "stdout",
     "output_type": "stream",
     "text": [
      "[0.33333333 0.33333333 0.33333333]\n"
     ]
    }
   ],
   "source": [
    "matrix = np.array([[1.0, 1.5, -2.],\n",
    "                   [0.5, 3.0, 2.5],\n",
    "                   [1.0, 0.25, 0.75]])\n",
    "\n",
    "\n",
    "def fct(x):\n",
    "    return x.dot(matrix).dot(x)\n",
    "\n",
    "\n",
    "x0 = np.ones(3) / 3\n",
    "print(x0)\n",
    "cons = ({'type': 'eq', 'fun': lambda x: x.sum() - 1.0})\n",
    "bnds = [(0, 1)] * 3\n",
    "\n",
    "w = minimize(fct, x0, method='SLSQP', bounds=bnds, constraints=cons)['x']"
   ]
  },
  {
   "cell_type": "code",
   "execution_count": 8,
   "metadata": {
    "ExecuteTime": {
     "end_time": "2022-09-08T19:58:55.706419Z",
     "start_time": "2022-09-08T19:58:55.702320Z"
    }
   },
   "outputs": [
    {
     "data": {
      "text/plain": [
       "array([4.54545454e-01, 1.64104841e-15, 5.45454546e-01])"
      ]
     },
     "execution_count": 8,
     "metadata": {},
     "output_type": "execute_result"
    }
   ],
   "source": [
    "w"
   ]
  },
  {
   "cell_type": "markdown",
   "metadata": {},
   "source": [
    "## With Jacobian of only function + (constraint will be estimated via FDs)"
   ]
  },
  {
   "cell_type": "code",
   "execution_count": 36,
   "metadata": {
    "ExecuteTime": {
     "end_time": "2022-09-08T20:08:42.552956Z",
     "start_time": "2022-09-08T20:08:42.550213Z"
    }
   },
   "outputs": [],
   "source": [
    "def fct_deriv(x):\n",
    "    return 2 * matrix.dot(x)"
   ]
  },
  {
   "cell_type": "code",
   "execution_count": 37,
   "metadata": {
    "ExecuteTime": {
     "end_time": "2022-09-08T20:08:45.309104Z",
     "start_time": "2022-09-08T20:08:45.301959Z"
    }
   },
   "outputs": [
    {
     "data": {
      "text/plain": [
       "array([0.65517408, 0.17241322, 0.17241269])"
      ]
     },
     "execution_count": 37,
     "metadata": {},
     "output_type": "execute_result"
    }
   ],
   "source": [
    "minimize(fct, x0, method='SLSQP', jac=fct_deriv,\n",
    "             bounds=bnds, constraints=cons)['x']"
   ]
  },
  {
   "cell_type": "markdown",
   "metadata": {},
   "source": [
    "## With Jacobian of both function + constraints"
   ]
  },
  {
   "cell_type": "code",
   "execution_count": 38,
   "metadata": {
    "ExecuteTime": {
     "end_time": "2022-09-08T20:08:49.328884Z",
     "start_time": "2022-09-08T20:08:49.325886Z"
    }
   },
   "outputs": [],
   "source": [
    "cons2 = ({'type': 'eq', 'fun': lambda x: x.sum() -\n",
    "         1.0, 'jac': lambda x: np.ones_like(x)})"
   ]
  },
  {
   "cell_type": "code",
   "execution_count": 39,
   "metadata": {
    "ExecuteTime": {
     "end_time": "2022-09-08T20:08:50.083809Z",
     "start_time": "2022-09-08T20:08:50.077460Z"
    }
   },
   "outputs": [
    {
     "data": {
      "text/plain": [
       "array([0.65517408, 0.17241322, 0.17241269])"
      ]
     },
     "execution_count": 39,
     "metadata": {},
     "output_type": "execute_result"
    }
   ],
   "source": [
    "minimize(fct, x0, method='SLSQP', jac=fct_deriv,\n",
    "             bounds=bnds, constraints=cons2)['x']"
   ]
  },
  {
   "cell_type": "markdown",
   "metadata": {},
   "source": [
    "# CVXPY\n",
    "<hr style = \"border:2px solid black\" ></hr>"
   ]
  },
  {
   "cell_type": "code",
   "execution_count": 4,
   "metadata": {
    "ExecuteTime": {
     "end_time": "2022-09-08T19:56:50.574644Z",
     "start_time": "2022-09-08T19:56:50.251053Z"
    }
   },
   "outputs": [
    {
     "name": "stdout",
     "output_type": "stream",
     "text": [
      "\n",
      "cvxpy\n",
      "\n",
      "===============================================================================\n",
      "                                     CVXPY                                     \n",
      "                                     v1.2.1                                    \n",
      "===============================================================================\n",
      "(CVXPY) Sep 08 08:56:50 PM: Your problem has 3 variables, 3 constraints, and 0 parameters.\n",
      "(CVXPY) Sep 08 08:56:50 PM: It is compliant with the following grammars: DCP, DQCP\n",
      "(CVXPY) Sep 08 08:56:50 PM: (If you need to solve this problem multiple times, but with different data, consider using parameters.)\n",
      "(CVXPY) Sep 08 08:56:50 PM: CVXPY will first compile your problem; then, it will invoke a numerical solver to obtain a solution.\n",
      "-------------------------------------------------------------------------------\n",
      "                                  Compilation                                  \n",
      "-------------------------------------------------------------------------------\n",
      "(CVXPY) Sep 08 08:56:50 PM: Compiling problem (target solver=SCS).\n",
      "(CVXPY) Sep 08 08:56:50 PM: Reduction chain: Dcp2Cone -> CvxAttr2Constr -> ConeMatrixStuffing -> SCS\n",
      "(CVXPY) Sep 08 08:56:50 PM: Applying reduction Dcp2Cone\n",
      "(CVXPY) Sep 08 08:56:50 PM: Applying reduction CvxAttr2Constr\n",
      "(CVXPY) Sep 08 08:56:50 PM: Applying reduction ConeMatrixStuffing\n",
      "(CVXPY) Sep 08 08:56:50 PM: Applying reduction SCS\n",
      "(CVXPY) Sep 08 08:56:50 PM: Finished problem compilation (took 1.663e-02 seconds).\n",
      "-------------------------------------------------------------------------------\n",
      "                                Numerical solver                               \n",
      "-------------------------------------------------------------------------------\n",
      "(CVXPY) Sep 08 08:56:50 PM: Invoking solver SCS  to obtain a solution.\n",
      "------------------------------------------------------------------\n",
      "\t       SCS v3.2.0 - Splitting Conic Solver\n",
      "\t(c) Brendan O'Donoghue, Stanford University, 2012\n",
      "------------------------------------------------------------------\n",
      "problem:  variables n: 4, constraints m: 12\n",
      "cones: \t  z: primal zero / dual free vars: 1\n",
      "\t  l: linear vars: 6\n",
      "\t  q: soc vars: 5, qsize: 1\n",
      "settings: eps_abs: 1.0e-05, eps_rel: 1.0e-05, eps_infeas: 1.0e-07\n",
      "\t  alpha: 1.50, scale: 1.00e-01, adaptive_scale: 1\n",
      "\t  max_iters: 100000, normalize: 1, rho_x: 1.00e-06\n",
      "\t  acceleration_lookback: 10, acceleration_interval: 10\n",
      "lin-sys:  sparse-indirect\n",
      "\t  nnz(A): 20, nnz(P): 0\n",
      "------------------------------------------------------------------\n",
      " iter | pri res | dua res |   gap   |   obj   |  scale  | time (s)\n",
      "------------------------------------------------------------------\n",
      "     0| 7.47e+01  5.79e+00  4.27e+02 -2.13e+02  1.00e-01  1.74e-03 \n",
      "   225| 1.74e-06  1.19e-06  9.85e-06  1.52e-02  3.97e-01  2.41e-03 \n",
      "------------------------------------------------------------------\n",
      "status:  solved\n",
      "timings: total: 4.31e-03s = setup: 1.88e-03s + solve: 2.43e-03s\n",
      "\t lin-sys: 2.99e-04s, cones: 4.70e-05s, accel: 1.10e-04s\n",
      "------------------------------------------------------------------\n",
      "objective = 0.015237\n",
      "------------------------------------------------------------------\n",
      "-------------------------------------------------------------------------------\n",
      "                                    Summary                                    \n",
      "-------------------------------------------------------------------------------\n",
      "(CVXPY) Sep 08 08:56:50 PM: Problem status: optimal\n",
      "(CVXPY) Sep 08 08:56:50 PM: Optimal value: 1.524e-02\n",
      "(CVXPY) Sep 08 08:56:50 PM: Compilation took 1.663e-02 seconds\n",
      "(CVXPY) Sep 08 08:56:50 PM: Solver (including time spent in interface) took 2.914e-01 seconds\n",
      "0.01524205629353699\n",
      "cvxpy (modelling) + ecos/scs (solving) used (secs):  0.31675974900000003\n"
     ]
    }
   ],
   "source": [
    "# Convex-Opt\n",
    "\n",
    "\"\"\" Create some random pos-def matrix \"\"\"\n",
    "N = 3\n",
    "matrix_ = np.random.normal(size=(N,N))\n",
    "matrix = np.dot(matrix_, matrix_.T)\n",
    "\n",
    "\"\"\" CVXPY-based Convex-Opt \"\"\"\n",
    "x = Variable(N)\n",
    "constraints = [x >= 0, x <= 1, sum(x) == 1]\n",
    "objective = Minimize(quad_form(x, matrix))\n",
    "problem = Problem(objective, constraints)\n",
    "time_start = time.perf_counter()\n",
    "problem.solve(solver=SCS, use_indirect=True, verbose=True)  # or: solver=ECOS\n",
    "time_end = time.perf_counter()\n",
    "print(problem.value)\n",
    "print('cvxpy (modelling) + ecos/scs (solving) used (secs): ', time_end - time_start)\n"
   ]
  },
  {
   "cell_type": "code",
   "execution_count": 27,
   "metadata": {
    "ExecuteTime": {
     "end_time": "2022-09-08T20:05:51.934872Z",
     "start_time": "2022-09-08T20:05:51.931020Z"
    }
   },
   "outputs": [
    {
     "data": {
      "text/plain": [
       "0.01524205629353699"
      ]
     },
     "execution_count": 27,
     "metadata": {},
     "output_type": "execute_result"
    }
   ],
   "source": [
    "problem.value"
   ]
  },
  {
   "cell_type": "markdown",
   "metadata": {},
   "source": [
    "# References\n",
    "<hr style = \"border:2px solid black\" ></hr>"
   ]
  },
  {
   "cell_type": "markdown",
   "metadata": {},
   "source": [
    "\n",
    "- https://stackoverflow.com/questions/43648073/what-is-the-fastest-way-to-minimize-a-function-in-python\n",
    "\n",
""   ]
  },
  {
   "cell_type": "code",
   "execution_count": null,
   "metadata": {},
   "outputs": [],
   "source": []
  }
 ],
 "metadata": {
  "kernelspec": {
   "display_name": "trainingAI",
   "language": "python",
   "name": "trainingai"
  },
  "language_info": {
   "codemirror_mode": {
    "name": "ipython",
    "version": 3
   },
   "file_extension": ".py",
   "mimetype": "text/x-python",
   "name": "python",
   "nbconvert_exporter": "python",
   "pygments_lexer": "ipython3",
   "version": "3.9.7"
  },
  "toc": {
   "base_numbering": 1,
   "nav_menu": {},
   "number_sections": true,
   "sideBar": true,
   "skip_h1_title": false,
   "title_cell": "Table of Contents",
   "title_sidebar": "Contents",
   "toc_cell": true,
   "toc_position": {
    "height": "calc(100% - 180px)",
    "left": "10px",
    "top": "150px",
    "width": "298.667px"
   },
   "toc_section_display": true,
   "toc_window_display": true
  },
  "varInspector": {
   "cols": {
    "lenName": 16,
    "lenType": 16,
    "lenVar": 40
   },
   "kernels_config": {
    "python": {
     "delete_cmd_postfix": "",
     "delete_cmd_prefix": "del ",
     "library": "var_list.py",
     "varRefreshCmd": "print(var_dic_list())"
    },
    "r": {
     "delete_cmd_postfix": ") ",
     "delete_cmd_prefix": "rm(",
     "library": "var_list.r",
     "varRefreshCmd": "cat(var_dic_list()) "
    }
   },
   "types_to_exclude": [
    "module",
    "function",
    "builtin_function_or_method",
    "instance",
    "_Feature"
   ],
   "window_display": false
  }
 },
 "nbformat": 4,
 "nbformat_minor": 1
}
