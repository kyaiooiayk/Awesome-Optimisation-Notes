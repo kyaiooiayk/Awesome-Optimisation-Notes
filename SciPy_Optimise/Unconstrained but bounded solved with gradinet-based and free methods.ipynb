{
 "cells": [
  {
   "cell_type": "markdown",
   "metadata": {},
   "source": [
    "# Introduction\n",
    "<hr style = \"border:2px solid black\" ></hr>"
   ]
  },
  {
   "cell_type": "markdown",
   "metadata": {},
   "source": [
    "<div class=\"alert alert-warning\">\n",
    "<font color=black>\n",
    "\n",
    "**What?** Unconstrained but bounded solved with gradinet-based and free methods\n",
    "\n",
    "</font>\n",
    "</div>"
   ]
  },
  {
   "cell_type": "markdown",
   "metadata": {},
   "source": [
    "# Imports\n",
    "<hr style = \"border:2px solid black\" ></hr>"
   ]
  },
  {
   "cell_type": "code",
   "execution_count": 14,
   "metadata": {
    "ExecuteTime": {
     "end_time": "2022-09-08T20:46:09.876559Z",
     "start_time": "2022-09-08T20:46:09.873673Z"
    },
    "id": "XuF0xuyz8EOd"
   },
   "outputs": [],
   "source": [
    "import numpy as np\n",
    "import matplotlib.pyplot as plt\n",
    "from scipy.optimize import minimize\n",
    "from scipy.optimize import rosen, differential_evolution"
   ]
  },
  {
   "cell_type": "markdown",
   "metadata": {},
   "source": [
    "# Obejctive function with Jacobian and Hessian\n",
    "<hr style = \"border:2px solid black\" ></hr>"
   ]
  },
  {
   "cell_type": "markdown",
   "metadata": {},
   "source": [
    "<div class=\"alert alert-info\">\n",
    "<font color=black>\n",
    "\n",
    "- In this example, we minimize the 10 dimensional Rosenbrock function for an example.\n",
    "- The function has been implemented in scipy.optimize already. \n",
    "\n",
    "</font>\n",
    "</div>"
   ]
  },
  {
   "cell_type": "code",
   "execution_count": 11,
   "metadata": {
    "ExecuteTime": {
     "end_time": "2022-09-08T20:44:34.969929Z",
     "start_time": "2022-09-08T20:44:34.967413Z"
    },
    "colab": {
     "base_uri": "https://localhost:8080/",
     "height": 53
    },
    "id": "jJnA_SDJ8NWS",
    "outputId": "8b199c9b-a605-482e-b70a-36ba597ab88a"
   },
   "outputs": [],
   "source": [
    "from scipy.optimize import rosen, rosen_der, rosen_hess"
   ]
  },
  {
   "cell_type": "code",
   "execution_count": 12,
   "metadata": {
    "ExecuteTime": {
     "end_time": "2022-09-08T20:44:40.891397Z",
     "start_time": "2022-09-08T20:44:40.885797Z"
    }
   },
   "outputs": [
    {
     "data": {
      "text/plain": [
       "<function scipy.optimize.optimize.rosen(x)>"
      ]
     },
     "execution_count": 12,
     "metadata": {},
     "output_type": "execute_result"
    }
   ],
   "source": [
    "rosen"
   ]
  },
  {
   "cell_type": "markdown",
   "metadata": {},
   "source": [
    "# BFGS\n",
    "<hr style = \"border:2px solid black\" ></hr>"
   ]
  },
  {
   "cell_type": "code",
   "execution_count": 9,
   "metadata": {
    "ExecuteTime": {
     "end_time": "2022-09-08T20:44:27.026105Z",
     "start_time": "2022-09-08T20:44:27.003987Z"
    }
   },
   "outputs": [
    {
     "name": "stdout",
     "output_type": "stream",
     "text": [
      "Iteration: 67,\n",
      "Solution: [1. 1. 1. 1. 1. 1. 1. 1. 1. 1.]\n"
     ]
    }
   ],
   "source": [
    "x0 = np.random.random([1,10])\n",
    "res = minimize(rosen, x0, method='BFGS', jac=rosen_der, tol=1e-6)\n",
    "print(\"Iteration: {it},\\nSolution: {x0}\".format(it=res.nit, x0=res.x))"
   ]
  },
  {
   "cell_type": "markdown",
   "metadata": {},
   "source": [
    "# L-BFGS-B\n",
    "<hr style = \"border:2px solid black\" ></hr>"
   ]
  },
  {
   "cell_type": "code",
   "execution_count": 4,
   "metadata": {
    "ExecuteTime": {
     "end_time": "2022-09-08T20:23:44.698336Z",
     "start_time": "2022-09-08T20:23:44.683733Z"
    },
    "colab": {
     "base_uri": "https://localhost:8080/",
     "height": 71
    },
    "id": "-_w8LNvy980r",
    "outputId": "537ea50d-f4c5-4137-8566-9207449e80cb"
   },
   "outputs": [
    {
     "name": "stdout",
     "output_type": "stream",
     "text": [
      "Iteration: 58,\n",
      "Solution: [1.00000319 1.00000604 1.00001048 1.00001298 1.00001107 1.0000084\n",
      " 1.00001096 1.00002125 1.00004085 1.00008016]\n"
     ]
    }
   ],
   "source": [
    "# Here we try the L-BFGS-B method instead.\n",
    "res = minimize(rosen, x0, method='L-BFGS-B', jac=rosen_der, tol=1e-6)\n",
    "print(\"Iteration: {it},\\nSolution: {x0}\".format(it=res.nit, x0=res.x))"
   ]
  },
  {
   "cell_type": "markdown",
   "metadata": {},
   "source": [
    "# Newton-CG\n",
    "<hr style = \"border:2px solid black\" ></hr>"
   ]
  },
  {
   "cell_type": "code",
   "execution_count": 13,
   "metadata": {
    "ExecuteTime": {
     "end_time": "2022-09-08T20:45:23.734521Z",
     "start_time": "2022-09-08T20:45:23.712304Z"
    },
    "colab": {
     "base_uri": "https://localhost:8080/",
     "height": 53
    },
    "id": "Q4KIWB2u9-o7",
    "outputId": "f74a0452-e7a8-4a36-f82e-432ab4deb2b4"
   },
   "outputs": [
    {
     "name": "stdout",
     "output_type": "stream",
     "text": [
      "Iteration: 36,\n",
      "Solution: [1.         1.         1.         1.         1.         0.99999999\n",
      " 0.99999999 0.99999997 0.99999994 0.99999989]\n"
     ]
    }
   ],
   "source": [
    "# Here we try the Newton's method instead with Hessian supplied.\n",
    "res = minimize(rosen, x0, method='Newton-CG', jac=rosen_der, hess=rosen_hess, tol=1e-6)\n",
    "print(\"Iteration: {it},\\nSolution: {x0}\".format(it=res.nit, x0=res.x))"
   ]
  },
  {
   "cell_type": "markdown",
   "metadata": {
    "id": "WKfiYHlRAEyd"
   },
   "source": [
    "# Gradient-free differential evolution\n",
    "<hr style = \"border:2px solid black\" ></hr>"
   ]
  },
  {
   "cell_type": "code",
   "execution_count": 15,
   "metadata": {
    "ExecuteTime": {
     "end_time": "2022-09-08T20:47:15.641275Z",
     "start_time": "2022-09-08T20:46:58.691588Z"
    },
    "colab": {
     "base_uri": "https://localhost:8080/",
     "height": 35
    },
    "id": "RiGKCuxjBwr0",
    "outputId": "b4b3d972-3ac9-4f31-e517-3f322dc08f0c"
   },
   "outputs": [
    {
     "name": "stdout",
     "output_type": "stream",
     "text": [
      "[1. 1. 1. 1. 1. 1. 1. 1. 1. 1.] 2.5315589981727605e-21\n"
     ]
    }
   ],
   "source": [
    "bounds = [(0,2)] * 10\n",
    "result = differential_evolution(rosen, bounds)\n",
    "print(result.x, result.fun)"
   ]
  },
  {
   "cell_type": "markdown",
   "metadata": {},
   "source": [
    "# References\n",
    "<hr style = \"border:2px solid black\" ></hr>"
   ]
  },
  {
   "cell_type": "markdown",
   "metadata": {
    "id": "Iu23rFlljIew"
   },
   "source": [
    "<div class=\"alert alert-warning\">\n",
    "<font color=black>\n",
    "\n",
    "- https://colab.research.google.com/drive/1bFcr1J0a6Euwp09vY_IID-LRxCKCdm_I#scrollTo=7vtqCZnN5-Sz\n",
    "\n",
    "</font>\n",
    "</div>"
   ]
  },
  {
   "cell_type": "code",
   "execution_count": null,
   "metadata": {},
   "outputs": [],
   "source": []
  }
 ],
 "metadata": {
  "colab": {
   "collapsed_sections": [],
   "provenance": [],
   "toc_visible": true
  },
  "kernelspec": {
   "display_name": "Python 3 (ipykernel)",
   "language": "python",
   "name": "python3"
  },
  "language_info": {
   "codemirror_mode": {
    "name": "ipython",
    "version": 3
   },
   "file_extension": ".py",
   "mimetype": "text/x-python",
   "name": "python",
   "nbconvert_exporter": "python",
   "pygments_lexer": "ipython3",
   "version": "3.9.7"
  },
  "toc": {
   "base_numbering": 1,
   "nav_menu": {},
   "number_sections": true,
   "sideBar": true,
   "skip_h1_title": false,
   "title_cell": "Table of Contents",
   "title_sidebar": "Contents",
   "toc_cell": false,
   "toc_position": {},
   "toc_section_display": true,
   "toc_window_display": true
  },
  "varInspector": {
   "cols": {
    "lenName": 16,
    "lenType": 16,
    "lenVar": 40
   },
   "kernels_config": {
    "python": {
     "delete_cmd_postfix": "",
     "delete_cmd_prefix": "del ",
     "library": "var_list.py",
     "varRefreshCmd": "print(var_dic_list())"
    },
    "r": {
     "delete_cmd_postfix": ") ",
     "delete_cmd_prefix": "rm(",
     "library": "var_list.r",
     "varRefreshCmd": "cat(var_dic_list()) "
    }
   },
   "types_to_exclude": [
    "module",
    "function",
    "builtin_function_or_method",
    "instance",
    "_Feature"
   ],
   "window_display": false
  }
 },
 "nbformat": 4,
 "nbformat_minor": 1
}
