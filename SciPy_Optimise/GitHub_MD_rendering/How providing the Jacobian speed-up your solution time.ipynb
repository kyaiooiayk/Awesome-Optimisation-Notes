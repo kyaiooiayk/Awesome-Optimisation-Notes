{
 "cells": [
  {
   "cell_type": "markdown",
   "metadata": {
    "toc": true
   },
   "source": [
    "<h1>Table of Contents<span class=\"tocSkip\"></span></h1>\n",
""   ]
  },
  {
   "cell_type": "markdown",
   "metadata": {},
   "source": [
    "# Introduction\n",
    "<hr style = \"border:2px solid black\" ></hr>"
   ]
  },
  {
   "cell_type": "markdown",
   "metadata": {},
   "source": [
    "\n",
    "**What?** How providing the Jacobian speed-up your solution time.\n",
""   ]
  },
  {
   "cell_type": "markdown",
   "metadata": {},
   "source": [
    "# Imports\n",
    "<hr style = \"border:2px solid black\" ></hr>"
   ]
  },
  {
   "cell_type": "code",
   "execution_count": 1,
   "metadata": {
    "ExecuteTime": {
     "end_time": "2022-09-08T19:56:50.223339Z",
     "start_time": "2022-09-08T19:56:49.841374Z"
    }
   },
   "outputs": [],
   "source": [
    "import numpy as np\n",
    "from scipy.optimize import minimize\n",
    "import time\n",
    "import numpy as np\n",
    "from cvxpy import *  "
   ]
  },
  {
   "cell_type": "markdown",
   "metadata": {},
   "source": [
    "# Scipy.optimize\n",
    "<hr style = \"border:2px solid black\" ></hr>"
   ]
  },
  {
   "cell_type": "markdown",
   "metadata": {},
   "source": [
    "## No Jacobian"
   ]
  },
  {
   "cell_type": "code",
   "execution_count": 35,
   "metadata": {
    "ExecuteTime": {
     "end_time": "2022-09-08T20:08:38.528598Z",
     "start_time": "2022-09-08T20:08:38.519418Z"
    }
   },
   "outputs": [
    {
     "name": "stdout",
     "output_type": "stream",
     "text": [
      "[0.33333333 0.33333333 0.33333333]\n"
     ]
    }
   ],
   "source": [
    "matrix = np.array([[1.0, 1.5, -2.],\n",
    "                   [0.5, 3.0, 2.5],\n",
    "                   [1.0, 0.25, 0.75]])\n",
    "\n",
    "\n",
    "def fct(x):\n",
    "    return x.dot(matrix).dot(x)\n",
    "\n",
    "\n",
    "x0 = np.ones(3) / 3\n",
    "print(x0)\n",
    "cons = ({'type': 'eq', 'fun': lambda x: x.sum() - 1.0})\n",
    "bnds = [(0, 1)] * 3\n",
    "\n",
    "w = minimize(fct, x0, method='SLSQP', bounds=bnds, constraints=cons)['x']"
   ]
  },
  {
   "cell_type": "code",
   "execution_count": 8,
   "metadata": {
    "ExecuteTime": {
     "end_time": "2022-09-08T19:58:55.706419Z",
     "start_time": "2022-09-08T19:58:55.702320Z"
    }
   },
   "outputs": [
    {
     "data": {
      "text/plain": [
       "array([4.54545454e-01, 1.64104841e-15, 5.45454546e-01])"
      ]
     },
     "execution_count": 8,
     "metadata": {},
     "output_type": "execute_result"
    }
   ],
   "source": [
    "w"
   ]
  },
  {
   "cell_type": "markdown",
   "metadata": {},
   "source": [
    "## With Jacobian of only function + (constraint will be estimated via FDs)"
   ]
  },
  {
   "cell_type": "code",
   "execution_count": 36,
   "metadata": {
    "ExecuteTime": {
     "end_time": "2022-09-08T20:08:42.552956Z",
     "start_time": "2022-09-08T20:08:42.550213Z"
    }
   },
   "outputs": [],
   "source": [
    "def fct_deriv(x):\n",
    "    return 2 * matrix.dot(x)"
   ]
  },
  {
   "cell_type": "code",
   "execution_count": 37,
   "metadata": {
    "ExecuteTime": {
     "end_time": "2022-09-08T20:08:45.309104Z",
     "start_time": "2022-09-08T20:08:45.301959Z"
    }
   },
   "outputs": [
    {
     "data": {
      "text/plain": [
       "array([0.65517408, 0.17241322, 0.17241269])"
      ]
     },
     "execution_count": 37,
     "metadata": {},
     "output_type": "execute_result"
    }
   ],
   "source": [
    "minimize(fct, x0, method='SLSQP', jac=fct_deriv,\n",
    "             bounds=bnds, constraints=cons)['x']"
   ]
  },
  {
   "cell_type": "markdown",
   "metadata": {},
   "source": [
    "## With Jacobian of both function + constraints"
   ]
  },
  {
   "cell_type": "code",
   "execution_count": 38,
   "metadata": {
    "ExecuteTime": {
     "end_time": "2022-09-08T20:08:49.328884Z",
     "start_time": "2022-09-08T20:08:49.325886Z"
    }
   },
   "outputs": [],
   "source": [
    "cons2 = ({'type': 'eq', 'fun': lambda x: x.sum() -\n",
    "         1.0, 'jac': lambda x: np.ones_like(x)})"
   ]
  },
  {
   "cell_type": "code",
   "execution_count": 39,
   "metadata": {
    "ExecuteTime": {
     "end_time": "2022-09-08T20:08:50.083809Z",
     "start_time": "2022-09-08T20:08:50.077460Z"
    }
   },
   "outputs": [
    {
     "data": {
      "text/plain": [
       "array([0.65517408, 0.17241322, 0.17241269])"
      ]
     },
     "execution_count": 39,
     "metadata": {},
     "output_type": "execute_result"
    }
   ],
   "source": [
    "minimize(fct, x0, method='SLSQP', jac=fct_deriv,\n",
    "             bounds=bnds, constraints=cons2)['x']"
   ]
  },
  {
   "cell_type": "markdown",
   "metadata": {},
   "source": [
    "# References\n",
    "<hr style = \"border:2px solid black\" ></hr>"
   ]
  },
  {
   "cell_type": "markdown",
   "metadata": {},
   "source": [
    "\n",
    "- https://stackoverflow.com/questions/43648073/what-is-the-fastest-way-to-minimize-a-function-in-python\n",
    "\n",
""   ]
  },
  {
   "cell_type": "code",
   "execution_count": null,
   "metadata": {},
   "outputs": [],
   "source": []
  }
 ],
 "metadata": {
  "kernelspec": {
   "display_name": "trainingAI",
   "language": "python",
   "name": "trainingai"
  },
  "language_info": {
   "codemirror_mode": {
    "name": "ipython",
    "version": 3
   },
   "file_extension": ".py",
   "mimetype": "text/x-python",
   "name": "python",
   "nbconvert_exporter": "python",
   "pygments_lexer": "ipython3",
   "version": "3.9.7"
  },
  "toc": {
   "base_numbering": 1,
   "nav_menu": {},
   "number_sections": true,
   "sideBar": true,
   "skip_h1_title": false,
   "title_cell": "Table of Contents",
   "title_sidebar": "Contents",
   "toc_cell": true,
   "toc_position": {},
   "toc_section_display": true,
   "toc_window_display": true
  },
  "varInspector": {
   "cols": {
    "lenName": 16,
    "lenType": 16,
    "lenVar": 40
   },
   "kernels_config": {
    "python": {
     "delete_cmd_postfix": "",
     "delete_cmd_prefix": "del ",
     "library": "var_list.py",
     "varRefreshCmd": "print(var_dic_list())"
    },
    "r": {
     "delete_cmd_postfix": ") ",
     "delete_cmd_prefix": "rm(",
     "library": "var_list.r",
     "varRefreshCmd": "cat(var_dic_list()) "
    }
   },
   "types_to_exclude": [
    "module",
    "function",
    "builtin_function_or_method",
    "instance",
    "_Feature"
   ],
   "window_display": false
  }
 },
 "nbformat": 4,
 "nbformat_minor": 1
}
