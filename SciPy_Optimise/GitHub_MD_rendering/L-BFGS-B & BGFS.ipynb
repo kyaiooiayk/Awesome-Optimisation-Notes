{
 "cells": [
  {
   "cell_type": "markdown",
   "metadata": {},
   "source": [
    "# Introduction\n",
    "<hr style=\"border:2px solid black\"> </hr>"
   ]
  },
  {
   "cell_type": "markdown",
   "metadata": {},
   "source": [
    "\n",
    "**What?** L-BFGS-B & BGFS\n",
    "\n",
""   ]
  },
  {
   "cell_type": "markdown",
   "metadata": {},
   "source": [
    "# Import modules\n",
    "<hr style=\"border:2px solid black\"> </hr>"
   ]
  },
  {
   "cell_type": "code",
   "execution_count": 1,
   "metadata": {},
   "outputs": [],
   "source": [
    "from scipy.optimize import minimize\n",
    "from numpy.random import rand"
   ]
  },
  {
   "cell_type": "markdown",
   "metadata": {},
   "source": [
    "# Function and its derivatives\n",
    "<hr style=\"border:2px solid black\"> </hr>"
   ]
  },
  {
   "cell_type": "markdown",
   "metadata": {},
   "source": [
    "\n",
    "- Out function is a so-called bowl function `y**2+x**2=0.0`\n",
    "- The minimum of this function `f(0.0, 0.0) = 0.0`\n",
    "\n",
""   ]
  },
  {
   "cell_type": "code",
   "execution_count": 2,
   "metadata": {},
   "outputs": [],
   "source": [
    "# objective function\n",
    "def objective(x):\n",
    "    return x[0]**2.0 + x[1]**2.0\n",
    "\n",
    "# derivative of the objective function\n",
    "def derivative(x):\n",
    "    return [x[0] * 2, x[1] * 2]"
   ]
  },
  {
   "cell_type": "markdown",
   "metadata": {},
   "source": [
    "# BFGS\n",
    "<hr style=\"border:2px solid black\"> </hr>"
   ]
  },
  {
   "cell_type": "code",
   "execution_count": 3,
   "metadata": {},
   "outputs": [
    {
     "name": "stdout",
     "output_type": "stream",
     "text": [
      "Status : Optimization terminated successfully.\n",
      "Total Evaluations: 4\n",
      "Solution: f([-1.11022302e-16 -5.55111512e-17]) = 0.00000\n"
     ]
    }
   ],
   "source": [
    "# define range for input\n",
    "r_min, r_max = -5.0, 5.0\n",
    "# define the starting point as a random sample from the domain\n",
    "pt = r_min + rand(2) * (r_max - r_min)\n",
    "# perform the bfgs algorithm search\n",
    "result = minimize(objective, pt, method='BFGS', jac=derivative)\n",
    "# summarize the result\n",
    "print('Status : %s' % result['message'])\n",
    "print('Total Evaluations: %d' % result['nfev'])\n",
    "# evaluate solution\n",
    "solution = result['x']\n",
    "evaluation = objective(solution)\n",
    "print('Solution: f(%s) = %.5f' % (solution, evaluation))"
   ]
  },
  {
   "cell_type": "markdown",
   "metadata": {},
   "source": [
    "# L-BFGS-B\n",
    "<hr style=\"border:2px solid black\"> </hr>"
   ]
  },
  {
   "cell_type": "markdown",
   "metadata": {},
   "source": [
    "\n",
    "- The minimize() function also supports the L-BFGS algorithm that has lower memory requirements than BFGS.\n",
    "- *L* stands for low memory consumption.\n",
    "- *B* suffix indicates a “boxed” version of the algorithm, where the bounds of the domain can be specified.\n",
    "\n",
""   ]
  },
  {
   "cell_type": "code",
   "execution_count": 4,
   "metadata": {},
   "outputs": [
    {
     "name": "stdout",
     "output_type": "stream",
     "text": [
      "Status : CONVERGENCE: NORM_OF_PROJECTED_GRADIENT_<=_PGTOL\n",
      "Total Evaluations: 3\n",
      "Solution: f([ 4.44089210e-16 -1.77635684e-15]) = 0.00000\n"
     ]
    }
   ],
   "source": [
    "# define range for input\n",
    "r_min, r_max = -5.0, 5.0\n",
    "# define the starting point as a random sample from the domain\n",
    "pt = r_min + rand(2) * (r_max - r_min)\n",
    "# perform the l-bfgs-b algorithm search\n",
    "result = minimize(objective, pt, method='L-BFGS-B', jac=derivative)\n",
    "# summarize the result\n",
    "print('Status : %s' % result['message'])\n",
    "print('Total Evaluations: %d' % result['nfev'])\n",
    "# evaluate solution\n",
    "solution = result['x']\n",
    "evaluation = objective(solution)\n",
    "print('Solution: f(%s) = %.5f' % (solution, evaluation))"
   ]
  },
  {
   "cell_type": "markdown",
   "metadata": {},
   "source": [
    "# References\n",
    "<hr style=\"border:2px solid black\"> </hr>"
   ]
  },
  {
   "cell_type": "markdown",
   "metadata": {},
   "source": [
    "\n",
    "- https://machinelearningmastery.com/bfgs-optimization-in-python/\n",
    "- https://docs.scipy.org/doc/scipy/reference/generated/scipy.optimize.minimize.html\n",
    "\n",
""   ]
  },
  {
   "cell_type": "code",
   "execution_count": null,
   "metadata": {},
   "outputs": [],
   "source": []
  }
 ],
 "metadata": {
  "hide_input": false,
  "kernelspec": {
   "display_name": "trainingAI",
   "language": "python",
   "name": "trainingai"
  },
  "language_info": {
   "codemirror_mode": {
    "name": "ipython",
    "version": 3
   },
   "file_extension": ".py",
   "mimetype": "text/x-python",
   "name": "python",
   "nbconvert_exporter": "python",
   "pygments_lexer": "ipython3",
   "version": "3.8.5"
  }
 },
 "nbformat": 4,
 "nbformat_minor": 2
}
