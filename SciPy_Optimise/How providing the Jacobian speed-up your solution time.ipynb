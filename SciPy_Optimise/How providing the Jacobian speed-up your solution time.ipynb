{
 "cells": [
  {
   "cell_type": "markdown",
   "metadata": {
    "toc": true
   },
   "source": [
    "<h1>Table of Contents<span class=\"tocSkip\"></span></h1>\n",
    "<div class=\"toc\"><ul class=\"toc-item\"><li><span><a href=\"#Introduction\" data-toc-modified-id=\"Introduction-1\"><span class=\"toc-item-num\">1&nbsp;&nbsp;</span>Introduction</a></span></li><li><span><a href=\"#Imports\" data-toc-modified-id=\"Imports-2\"><span class=\"toc-item-num\">2&nbsp;&nbsp;</span>Imports</a></span></li><li><span><a href=\"#Scipy.optimize\" data-toc-modified-id=\"Scipy.optimize-3\"><span class=\"toc-item-num\">3&nbsp;&nbsp;</span>Scipy.optimize</a></span><ul class=\"toc-item\"><li><span><a href=\"#No-Jacobian\" data-toc-modified-id=\"No-Jacobian-3.1\"><span class=\"toc-item-num\">3.1&nbsp;&nbsp;</span>No Jacobian</a></span></li><li><span><a href=\"#With-Jacobian-of-only-function-+-(constraint-will-be-estimated-via-FDs)\" data-toc-modified-id=\"With-Jacobian-of-only-function-+-(constraint-will-be-estimated-via-FDs)-3.2\"><span class=\"toc-item-num\">3.2&nbsp;&nbsp;</span>With Jacobian of only function + (constraint will be estimated via FDs)</a></span></li><li><span><a href=\"#With-Jacobian-of-both-function-+-constraints\" data-toc-modified-id=\"With-Jacobian-of-both-function-+-constraints-3.3\"><span class=\"toc-item-num\">3.3&nbsp;&nbsp;</span>With Jacobian of both function + constraints</a></span></li></ul></li><li><span><a href=\"#References\" data-toc-modified-id=\"References-4\"><span class=\"toc-item-num\">4&nbsp;&nbsp;</span>References</a></span></li><li><span><a href=\"#Requirements\" data-toc-modified-id=\"Requirements-5\"><span class=\"toc-item-num\">5&nbsp;&nbsp;</span>Requirements</a></span></li></ul></div>"
   ]
  },
  {
   "cell_type": "markdown",
   "metadata": {},
   "source": [
    "# Introduction\n",
    "<hr style = \"border:2px solid black\" ></hr>"
   ]
  },
  {
   "cell_type": "markdown",
   "metadata": {},
   "source": [
    "<div class=\"alert alert-warning\">\n",
    "<font color=black>\n",
    "\n",
    "**What?** How providing the Jacobian speed-up your solution time.\n",
    "</font>\n",
    "</div>"
   ]
  },
  {
   "cell_type": "markdown",
   "metadata": {},
   "source": [
    "# Imports\n",
    "<hr style = \"border:2px solid black\" ></hr>"
   ]
  },
  {
   "cell_type": "code",
   "execution_count": 1,
   "metadata": {
    "ExecuteTime": {
     "end_time": "2022-09-29T19:50:57.922022Z",
     "start_time": "2022-09-29T19:50:50.449127Z"
    }
   },
   "outputs": [],
   "source": [
    "import numpy as np\n",
    "from scipy.optimize import minimize\n",
    "import time\n",
    "import numpy as np\n",
    "from cvxpy import *  "
   ]
  },
  {
   "cell_type": "markdown",
   "metadata": {},
   "source": [
    "# Scipy.optimize\n",
    "<hr style = \"border:2px solid black\" ></hr>"
   ]
  },
  {
   "cell_type": "markdown",
   "metadata": {},
   "source": [
    "## No Jacobian"
   ]
  },
  {
   "cell_type": "code",
   "execution_count": 2,
   "metadata": {
    "ExecuteTime": {
     "end_time": "2022-09-29T19:50:57.936940Z",
     "start_time": "2022-09-29T19:50:57.924615Z"
    }
   },
   "outputs": [
    {
     "name": "stdout",
     "output_type": "stream",
     "text": [
      "[0.33333333 0.33333333 0.33333333]\n"
     ]
    }
   ],
   "source": [
    "matrix = np.array([[1.0, 1.5, -2.],\n",
    "                   [0.5, 3.0, 2.5],\n",
    "                   [1.0, 0.25, 0.75]])\n",
    "\n",
    "\n",
    "def fct(x):\n",
    "    return x.dot(matrix).dot(x)\n",
    "\n",
    "\n",
    "x0 = np.ones(3) / 3\n",
    "print(x0)\n",
    "cons = ({'type': 'eq', 'fun': lambda x: x.sum() - 1.0})\n",
    "bnds = [(0, 1)] * 3\n",
    "\n",
    "w = minimize(fct, x0, method='SLSQP', bounds=bnds, constraints=cons)['x']"
   ]
  },
  {
   "cell_type": "code",
   "execution_count": 3,
   "metadata": {
    "ExecuteTime": {
     "end_time": "2022-09-29T19:50:57.951248Z",
     "start_time": "2022-09-29T19:50:57.940548Z"
    }
   },
   "outputs": [
    {
     "data": {
      "text/plain": [
       "array([4.54545454e-01, 1.64104841e-15, 5.45454546e-01])"
      ]
     },
     "execution_count": 3,
     "metadata": {},
     "output_type": "execute_result"
    }
   ],
   "source": [
    "w"
   ]
  },
  {
   "cell_type": "markdown",
   "metadata": {},
   "source": [
    "## With Jacobian of only function + (constraint will be estimated via FDs)"
   ]
  },
  {
   "cell_type": "code",
   "execution_count": 4,
   "metadata": {
    "ExecuteTime": {
     "end_time": "2022-09-29T19:50:57.956025Z",
     "start_time": "2022-09-29T19:50:57.953457Z"
    }
   },
   "outputs": [],
   "source": [
    "def fct_deriv(x):\n",
    "    return 2 * matrix.dot(x)"
   ]
  },
  {
   "cell_type": "code",
   "execution_count": 5,
   "metadata": {
    "ExecuteTime": {
     "end_time": "2022-09-29T19:50:57.965814Z",
     "start_time": "2022-09-29T19:50:57.958258Z"
    }
   },
   "outputs": [
    {
     "data": {
      "text/plain": [
       "array([0.65517408, 0.17241322, 0.17241269])"
      ]
     },
     "execution_count": 5,
     "metadata": {},
     "output_type": "execute_result"
    }
   ],
   "source": [
    "minimize(fct, x0, method='SLSQP', jac=fct_deriv,\n",
    "             bounds=bnds, constraints=cons)['x']"
   ]
  },
  {
   "cell_type": "markdown",
   "metadata": {},
   "source": [
    "## With Jacobian of both function + constraints"
   ]
  },
  {
   "cell_type": "code",
   "execution_count": 6,
   "metadata": {
    "ExecuteTime": {
     "end_time": "2022-09-29T19:50:57.970696Z",
     "start_time": "2022-09-29T19:50:57.967821Z"
    }
   },
   "outputs": [],
   "source": [
    "cons2 = ({'type': 'eq', 'fun': lambda x: x.sum() -\n",
    "         1.0, 'jac': lambda x: np.ones_like(x)})"
   ]
  },
  {
   "cell_type": "code",
   "execution_count": 7,
   "metadata": {
    "ExecuteTime": {
     "end_time": "2022-09-29T19:50:57.980525Z",
     "start_time": "2022-09-29T19:50:57.973022Z"
    }
   },
   "outputs": [
    {
     "data": {
      "text/plain": [
       "array([0.65517408, 0.17241322, 0.17241269])"
      ]
     },
     "execution_count": 7,
     "metadata": {},
     "output_type": "execute_result"
    }
   ],
   "source": [
    "minimize(fct, x0, method='SLSQP', jac=fct_deriv,\n",
    "             bounds=bnds, constraints=cons2)['x']"
   ]
  },
  {
   "cell_type": "markdown",
   "metadata": {},
   "source": [
    "# References\n",
    "<hr style = \"border:2px solid black\" ></hr>"
   ]
  },
  {
   "cell_type": "markdown",
   "metadata": {},
   "source": [
    "<div class=\"alert alert-warning\">\n",
    "<font color=black>\n",
    "\n",
    "- https://stackoverflow.com/questions/43648073/what-is-the-fastest-way-to-minimize-a-function-in-python\n",
    "\n",
    "</font>\n",
    "</div>"
   ]
  },
  {
   "cell_type": "markdown",
   "metadata": {},
   "source": [
    "# Requirements\n",
    "<hr style = \"border:2px solid black\" ></hr>"
   ]
  },
  {
   "cell_type": "code",
   "execution_count": 8,
   "metadata": {
    "ExecuteTime": {
     "end_time": "2022-09-29T19:50:58.016860Z",
     "start_time": "2022-09-29T19:50:57.982832Z"
    }
   },
   "outputs": [
    {
     "name": "stdout",
     "output_type": "stream",
     "text": [
      "Python implementation: CPython\n",
      "Python version       : 3.10.4\n",
      "IPython version      : 8.3.0\n",
      "\n",
      "json    : 2.0.9\n",
      "autopep8: 1.7.0\n",
      "numpy   : 1.21.6\n",
      "cvxpy   : 1.2.1\n",
      "\n"
     ]
    }
   ],
   "source": [
    "%load_ext watermark\n",
    "%watermark -v -iv"
   ]
  }
 ],
 "metadata": {
  "kernelspec": {
   "display_name": "ML4T",
   "language": "python",
   "name": "ml4t"
  },
  "language_info": {
   "codemirror_mode": {
    "name": "ipython",
    "version": 3
   },
   "file_extension": ".py",
   "mimetype": "text/x-python",
   "name": "python",
   "nbconvert_exporter": "python",
   "pygments_lexer": "ipython3",
   "version": "3.10.4"
  },
  "toc": {
   "base_numbering": 1,
   "nav_menu": {},
   "number_sections": true,
   "sideBar": true,
   "skip_h1_title": false,
   "title_cell": "Table of Contents",
   "title_sidebar": "Contents",
   "toc_cell": true,
   "toc_position": {},
   "toc_section_display": true,
   "toc_window_display": true
  },
  "varInspector": {
   "cols": {
    "lenName": 16,
    "lenType": 16,
    "lenVar": 40
   },
   "kernels_config": {
    "python": {
     "delete_cmd_postfix": "",
     "delete_cmd_prefix": "del ",
     "library": "var_list.py",
     "varRefreshCmd": "print(var_dic_list())"
    },
    "r": {
     "delete_cmd_postfix": ") ",
     "delete_cmd_prefix": "rm(",
     "library": "var_list.r",
     "varRefreshCmd": "cat(var_dic_list()) "
    }
   },
   "types_to_exclude": [
    "module",
    "function",
    "builtin_function_or_method",
    "instance",
    "_Feature"
   ],
   "window_display": false
  }
 },
 "nbformat": 4,
 "nbformat_minor": 1
}
