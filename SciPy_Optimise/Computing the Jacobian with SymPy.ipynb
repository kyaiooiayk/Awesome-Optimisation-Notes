{
 "cells": [
  {
   "cell_type": "markdown",
   "metadata": {
    "toc": true
   },
   "source": [
    "<h1>Table of Contents<span class=\"tocSkip\"></span></h1>\n",
    "<div class=\"toc\"><ul class=\"toc-item\"><li><span><a href=\"#Introduction\" data-toc-modified-id=\"Introduction-1\"><span class=\"toc-item-num\">1&nbsp;&nbsp;</span>Introduction</a></span></li><li><span><a href=\"#Imports\" data-toc-modified-id=\"Imports-2\"><span class=\"toc-item-num\">2&nbsp;&nbsp;</span>Imports</a></span></li><li><span><a href=\"#Generate-synthetic-data\" data-toc-modified-id=\"Generate-synthetic-data-3\"><span class=\"toc-item-num\">3&nbsp;&nbsp;</span>Generate synthetic data</a></span></li><li><span><a href=\"#Fitting-with-least-squares-optimisation\" data-toc-modified-id=\"Fitting-with-least-squares-optimisation-4\"><span class=\"toc-item-num\">4&nbsp;&nbsp;</span>Fitting with least-squares optimisation</a></span></li><li><span><a href=\"#Getting-the-analytical-expression-of-the-Jacobian\" data-toc-modified-id=\"Getting-the-analytical-expression-of-the-Jacobian-5\"><span class=\"toc-item-num\">5&nbsp;&nbsp;</span>Getting the analytical expression of the Jacobian</a></span></li><li><span><a href=\"#Providing-the-Jocabian\" data-toc-modified-id=\"Providing-the-Jocabian-6\"><span class=\"toc-item-num\">6&nbsp;&nbsp;</span>Providing the Jocabian</a></span></li><li><span><a href=\"#Conclusions\" data-toc-modified-id=\"Conclusions-7\"><span class=\"toc-item-num\">7&nbsp;&nbsp;</span>Conclusions</a></span></li><li><span><a href=\"#References\" data-toc-modified-id=\"References-8\"><span class=\"toc-item-num\">8&nbsp;&nbsp;</span>References</a></span></li><li><span><a href=\"#Requirements\" data-toc-modified-id=\"Requirements-9\"><span class=\"toc-item-num\">9&nbsp;&nbsp;</span>Requirements</a></span></li></ul></div>"
   ]
  },
  {
   "cell_type": "markdown",
   "metadata": {},
   "source": [
    "# Introduction\n",
    "<hr style = \"border:2px solid black\" ></hr>"
   ]
  },
  {
   "cell_type": "markdown",
   "metadata": {},
   "source": [
    "<div class=\"alert alert-warning\">\n",
    "<font color=black>\n",
    "\n",
    "**What?** Computing the Jacobian with `SymPy`\n",
    "</font>\n",
    "</div>"
   ]
  },
  {
   "cell_type": "markdown",
   "metadata": {},
   "source": [
    "# Imports\n",
    "<hr style = \"border:2px solid black\" ></hr>"
   ]
  },
  {
   "cell_type": "code",
   "execution_count": 1,
   "metadata": {
    "ExecuteTime": {
     "end_time": "2022-09-30T09:49:06.540435Z",
     "start_time": "2022-09-30T09:49:05.145081Z"
    }
   },
   "outputs": [],
   "source": [
    "import numpy as np\n",
    "from matplotlib import pyplot as plt\n",
    "from scipy import optimize\n",
    "import sympy as sym"
   ]
  },
  {
   "cell_type": "markdown",
   "metadata": {},
   "source": [
    "# Generate synthetic data\n",
    "<hr style = \"border:2px solid black\" ></hr>"
   ]
  },
  {
   "cell_type": "code",
   "execution_count": 2,
   "metadata": {
    "ExecuteTime": {
     "end_time": "2022-09-30T09:49:06.728140Z",
     "start_time": "2022-09-30T09:49:06.543116Z"
    }
   },
   "outputs": [
    {
     "data": {
      "image/png": "[encoded data removed]",
      "text/plain": [
       "<Figure size 432x288 with 1 Axes>"
      ]
     },
     "metadata": {
      "needs_background": "light"
     },
     "output_type": "display_data"
    }
   ],
   "source": [
    "x = [0, 1, 2, 3, 4, 5, 6, 7, 8, 9, 10, 11, 12, 13, 14, 15, 16, 17, 18, 19, 20, 21, 22, 23, 24, 25, 26, 27, 28, 29, 30, 31, 32, 33, 34, 35, 36, 37, 38, 39, 40, 41, 42, 43, 44, 45, 46, 47, 48, 49, 50, 51, 52, 53, 54, 55, 56, 57, 58, 59, 60, 61, 62, 63, 64, 65, 66, 67, 68, 69, 70, 71, 72, 73, 74, 75, 76, 77, 78, 79, 80, 81, 82, 83, 84, 85, 86, 87, 88, 89, 90, 91, 92, 93, 94, 95, 96, 97, 98, 99, 100, 101, 102, 103, 104, 105, 106, 107, 108, 109, 110, 111, 112, 113, 114, 115, 116, 117, 118, 119, 120, 121, 122, 123, 124, 125, 126, 127, 128, 129, 130, 131, 132, 133, 134, 135, 136, 137, 138, 139, 140, 141, 142, 143, 144, 145, 146, 147, 148, 149, 150, 151, 152, 153, 154, 155, 156, 157, 158, 159, 160,\n",
    "     161, 162, 163, 164, 165, 166, 167, 168, 169, 170, 171, 172, 173, 174, 175, 176, 177, 178, 179, 180, 181, 182, 183, 184, 185, 186, 187, 188, 189, 190, 191, 192, 193, 194, 195, 196, 197, 198, 199, 200, 201, 202, 203, 204, 205, 206, 207, 208, 209, 210, 211, 212, 213, 214, 215, 216, 217, 218, 219, 220, 221, 222, 223, 224, 225, 226, 227, 228, 229, 230, 231, 232, 233, 234, 235, 236, 237, 238, 239, 240, 241, 242, 243, 244, 245, 246, 247, 248, 249, 250, 251, 252, 253, 254, 255, 256, 257, 258, 259, 260, 261, 262, 263, 264, 265, 266, 267, 268, 269, 270, 271, 272, 273, 274, 275, 276, 277, 278, 279, 280, 281, 282, 283, 284, 285, 286, 287, 288, 289, 290, 291, 292, 293, 294, 295, 296, 297, 298, 299]\n",
    "\n",
    "y = [0.23, 0.35, 0.01, -0.12, 0.05, 0.0, -0.02, -0.11, 0.08, 0.03, -0.07, 0.07, -0.11, 0.03, -0.13, -0.09, 0.0, -0.04, -0.09, -0.07, -0.06, 0.02, -0.22, 0.03, 0.07, 0.0, -0.1, 0.19, 0.12, 0.03, 0.04, 0.24, 0.02, -0.0, -0.04, 0.14, 0.01, -0.0, 0.1, 0.19, 0.05, 0.21, -0.01, 0.08, 0.19, 0.18, 0.08, 0.04, 0.06, 0.11, -0.03, -0.01, 0.07, 0.05, 0.05, 0.03, 0.01, 0.24, 0.05, 0.03, 0.06, 0.06, 0.16, 0.18, 0.19, 0.07, 0.12, 0.17, 0.13, 0.35, -0.03, 0.06, 0.19, 0.32, 0.26, 0.19, 0.04, 0.45, 0.11, 0.36, 0.38, 0.31, 0.23, 0.39, 0.4, 0.25, 0.31, 0.47, 0.49, 0.24, 0.31, 0.34, 0.39, 0.44, 0.46, 0.34, 0.35, 0.48, 0.5, 0.42, 0.4, 0.29, 0.4, 0.33, 0.37, 0.34, 0.57, 0.4, 0.51, 0.53, 0.39, 0.55, 0.47, 0.55, 0.61, 0.54, 0.44, 0.38, 0.24, 0.41, 0.38, 0.38, 0.49, 0.37, 0.43, 0.37, 0.31, 0.26, 0.48, 0.39, 0.27, 0.46, 0.44, 0.36, 0.27, 0.16, 0.4, 0.21, 0.11, 0.27, 0.28, 0.13, 0.24, 0.2, 0.06, 0.12, 0.15, 0.07, -0.01, -0.03, 0.11, -0.03, 0.01, -0.02, -0.08, -\n",
    "     0.1, -0.2, -0.14, -0.13, -0.19, -0.12, -0.18, -0.26, -0.42, -0.27, -0.37, -0.43, -0.32, -0.36, -0.45, -0.51, -0.59, -0.45, -0.51, -0.68, -0.59, -0.7, -0.67, -0.64, -0.8, -0.85, -0.88, -0.95, -0.76, -0.8, -0.86, -1.03, -1.07, -1.0, -0.99, -0.94, -0.92, -1.08, -1.12, -0.74, -0.83, -0.96, -0.79, -0.87, -1.01, -0.94, -0.95, -1.0, -1.03, -0.98, -0.95, -1.07, -1.14, -1.12, -1.02, -0.74, -0.96, -0.85, -0.9, -0.98, -1.04, -0.93, -0.9, -0.75, -0.94, -0.88, -0.71, -0.63, -0.65, -0.71, -0.78, -0.66, -0.52, -0.63, -0.54, -0.74, -0.53, -0.5, -0.42, -0.43, -0.56, -0.37, -0.34, -0.4, -0.36, -0.32, -0.15, -0.22, -0.18, -0.18, -0.03, -0.11, -0.13, -0.08, -0.2, -0.14, -0.02, 0.06, 0.14, 0.04, 0.22, 0.15, -0.01, 0.2, 0.25, 0.14, 0.23, 0.23, 0.25, 0.33, 0.26, 0.56, 0.17, 0.38, 0.37, 0.44, 0.27, 0.53, 0.33, 0.27, 0.44, 0.5, 0.4, 0.34, 0.63, 0.32, 0.47, 0.59, 0.43, 0.34, 0.47, 0.41, 0.3, 0.35, 0.4, 0.48, 0.41, 0.33, 0.5, 0.25, 0.42, 0.3, 0.61, 0.4, 0.48]\n",
    "\n",
    "plt.scatter(x, y)\n",
    "plt.show()"
   ]
  },
  {
   "cell_type": "markdown",
   "metadata": {},
   "source": [
    "# Fitting with least-squares optimisation\n",
    "<hr style = \"border:2px solid black\" ></hr>"
   ]
  },
  {
   "cell_type": "markdown",
   "metadata": {},
   "source": [
    "<div class=\"alert alert-info\">\n",
    "<font color=black>\n",
    "\n",
    "- Starting from an initial guess p0 = [mu0, sigma0] the optimiser will try to minimize the function f iteratively. - The gradient descent will approximate the partial derivatives of f in a point [mu, sigma] using FDs.\n",
    "- This is expensive and each variables needs two calls of the function if a 2-points FD is used, as it is the default in `optimize.leastsq`.\n",
    "    \n",
    "</font>\n",
    "</div>    "
   ]
  },
  {
   "cell_type": "code",
   "execution_count": 3,
   "metadata": {
    "ExecuteTime": {
     "end_time": "2022-09-30T09:49:06.742260Z",
     "start_time": "2022-09-30T09:49:06.731640Z"
    }
   },
   "outputs": [
    {
     "name": "stdout",
     "output_type": "stream",
     "text": [
      "[200.84118964  50.02549059]\n"
     ]
    }
   ],
   "source": [
    "def second_derivative_gaussian(x, mu, sigma):\n",
    "    \"\"\"\n",
    "    Second derivative Gaussian to be fitted\n",
    "    Any other polnomial would have worked equally well!\n",
    "    \"\"\"\n",
    "    return (1 / (sigma**2)) * (-sigma ** 2 + (x - mu) ** 2) * np.exp(-(x - mu) ** 2 / (2 * sigma ** 2))\n",
    "\n",
    "\n",
    "def f(p, x, y):\n",
    "    return y - second_derivative_gaussian(x, *p)\n",
    "\n",
    "\n",
    "p0 = np.array([len(x)/2, 30.], dtype=np.float64)\n",
    "params_est, _ = optimize.leastsq(\n",
    "    f,\n",
    "    p0,\n",
    "    args=(x, y),\n",
    "    full_output=False,\n",
    ")\n",
    "\n",
    "print(params_est)"
   ]
  },
  {
   "cell_type": "markdown",
   "metadata": {},
   "source": [
    "# Getting the analytical expression of the Jacobian\n",
    "<hr style = \"border:2px solid black\" ></hr>"
   ]
  },
  {
   "cell_type": "markdown",
   "metadata": {},
   "source": [
    "<div class=\"alert alert-info\">\n",
    "<font color=black>\n",
    "\n",
    "- As or function is defined analytically, we can compute offline all the partial derivatives of function f to compose the Jacobian matrix. \n",
    "- Generally computing the partial derivatives in the Jacobian is a long and error-prone process.\n",
    "-Thankfully we can use `sympy` symbolic automatic differenciation functionality to constract the Jacobian.\n",
    "\n",
    "</font>\n",
    "</div>"
   ]
  },
  {
   "cell_type": "code",
   "execution_count": 4,
   "metadata": {
    "ExecuteTime": {
     "end_time": "2022-09-30T09:49:06.747727Z",
     "start_time": "2022-09-30T09:49:06.744334Z"
    }
   },
   "outputs": [],
   "source": [
    "x = sym.Symbol('x')\n",
    "mu = sym.Symbol('mu')\n",
    "sigma = sym.Symbol('sigma')\n",
    "y = sym.Symbol('y')"
   ]
  },
  {
   "cell_type": "code",
   "execution_count": 5,
   "metadata": {
    "ExecuteTime": {
     "end_time": "2022-09-30T09:49:06.753358Z",
     "start_time": "2022-09-30T09:49:06.749838Z"
    }
   },
   "outputs": [],
   "source": [
    "def second_derivative_gaussian_sympy(x, mu, sigma):\n",
    "    \"\"\"\n",
    "    Same function but we replaced 'np.exp' by 'sym.exp'\n",
    "    \"\"\"\n",
    "    a = (1 / (sigma**2)) * (-sigma ** 2 + (x - mu) ** 2) * \\\n",
    "        sym.exp(-(x - mu) ** 2 / (2 * sigma ** 2))\n",
    "    return a"
   ]
  },
  {
   "cell_type": "markdown",
   "metadata": {},
   "source": [
    "<div class=\"alert alert-info\">\n",
    "<font color=black>\n",
    "\n",
    "- Why did we feed the error?\n",
    "- The derivative of y will be zero, but the nagative in fron of our funciton is important.\n",
    "\n",
    "</font>\n",
    "</div>"
   ]
  },
  {
   "cell_type": "code",
   "execution_count": 6,
   "metadata": {
    "ExecuteTime": {
     "end_time": "2022-09-30T09:49:08.139721Z",
     "start_time": "2022-09-30T09:49:06.756050Z"
    }
   },
   "outputs": [
    {
     "name": "stdout",
     "output_type": "stream",
     "text": [
      "(2*sigma**2*(-mu + x) - (mu - x)*(sigma**2 - (mu - x)**2))*exp(-(mu - x)**2/(2*sigma**2))/sigma**4\n",
      "*****\n",
      "3*(mu - x)**2*exp(-(mu - x)**2/(2*sigma**2))/sigma**3 - (mu - x)**4*exp(-(mu - x)**2/(2*sigma**2))/sigma**5\n",
      "*****\n"
     ]
    }
   ],
   "source": [
    "error =  y - second_derivative_gaussian_sympy(x, mu, sigma)\n",
    "\n",
    "# Let's print the Jacobian\n",
    "for var in [mu, sigma]:\n",
    "    error_prime = error.diff(var)\n",
    "    print(sym.simplify(error_prime))\n",
    "    print(\"*****\")"
   ]
  },
  {
   "cell_type": "code",
   "execution_count": 8,
   "metadata": {
    "ExecuteTime": {
     "end_time": "2022-09-30T09:49:08.578326Z",
     "start_time": "2022-09-30T09:49:08.574048Z"
    },
    "cell_style": "split"
   },
   "outputs": [
    {
     "data": {
      "text/latex": [
       "$\\displaystyle y$"
      ],
      "text/plain": [
       "y"
      ]
     },
     "execution_count": 8,
     "metadata": {},
     "output_type": "execute_result"
    }
   ],
   "source": [
    "y"
   ]
  },
  {
   "cell_type": "code",
   "execution_count": 9,
   "metadata": {
    "ExecuteTime": {
     "end_time": "2022-09-30T09:49:08.591451Z",
     "start_time": "2022-09-30T09:49:08.582708Z"
    },
    "cell_style": "split"
   },
   "outputs": [
    {
     "data": {
      "text/latex": [
       "$\\displaystyle \\frac{\\left(- \\sigma^{2} + \\left(- \\mu + x\\right)^{2}\\right) e^{- \\frac{\\left(- \\mu + x\\right)^{2}}{2 \\sigma^{2}}}}{\\sigma^{2}}$"
      ],
      "text/plain": [
       "(-sigma**2 + (-mu + x)**2)*exp(-(-mu + x)**2/(2*sigma**2))/sigma**2"
      ]
     },
     "execution_count": 9,
     "metadata": {},
     "output_type": "execute_result"
    }
   ],
   "source": [
    "second_derivative_gaussian_sympy(x, mu, sigma)"
   ]
  },
  {
   "cell_type": "markdown",
   "metadata": {},
   "source": [
    "# Providing the Jocabian\n",
    "<hr style = \"border:2px solid black\" ></hr>"
   ]
  },
  {
   "cell_type": "markdown",
   "metadata": {},
   "source": [
    "<div class=\"alert alert-info\">\n",
    "<font color=black>\n",
    "\n",
    "- In this optimisation, one call to the function f_prime replaces four calls to the function f.\n",
    "- For small data and easy function this would not result in a massive improvement, but for more challenging one it is most definetly an advantage.\n",
    "\n",
    "</font>\n",
    "</div>"
   ]
  },
  {
   "cell_type": "code",
   "execution_count": 16,
   "metadata": {
    "ExecuteTime": {
     "end_time": "2022-09-30T09:49:53.259083Z",
     "start_time": "2022-09-30T09:49:53.238724Z"
    }
   },
   "outputs": [],
   "source": [
    "x = [0, 1, 2, 3, 4, 5, 6, 7, 8, 9, 10, 11, 12, 13, 14, 15, 16, 17, 18, 19, 20, 21, 22, 23, 24, 25, 26, 27, 28, 29, 30, 31, 32, 33, 34, 35, 36, 37, 38, 39, 40, 41, 42, 43, 44, 45, 46, 47, 48, 49, 50, 51, 52, 53, 54, 55, 56, 57, 58, 59, 60, 61, 62, 63, 64, 65, 66, 67, 68, 69, 70, 71, 72, 73, 74, 75, 76, 77, 78, 79, 80, 81, 82, 83, 84, 85, 86, 87, 88, 89, 90, 91, 92, 93, 94, 95, 96, 97, 98, 99, 100, 101, 102, 103, 104, 105, 106, 107, 108, 109, 110, 111, 112, 113, 114, 115, 116, 117, 118, 119, 120, 121, 122, 123, 124, 125, 126, 127, 128, 129, 130, 131, 132, 133, 134, 135, 136, 137, 138, 139, 140, 141, 142, 143, 144, 145, 146, 147, 148, 149, 150, 151, 152, 153, 154, 155, 156, 157, 158, 159, 160,\n",
    "     161, 162, 163, 164, 165, 166, 167, 168, 169, 170, 171, 172, 173, 174, 175, 176, 177, 178, 179, 180, 181, 182, 183, 184, 185, 186, 187, 188, 189, 190, 191, 192, 193, 194, 195, 196, 197, 198, 199, 200, 201, 202, 203, 204, 205, 206, 207, 208, 209, 210, 211, 212, 213, 214, 215, 216, 217, 218, 219, 220, 221, 222, 223, 224, 225, 226, 227, 228, 229, 230, 231, 232, 233, 234, 235, 236, 237, 238, 239, 240, 241, 242, 243, 244, 245, 246, 247, 248, 249, 250, 251, 252, 253, 254, 255, 256, 257, 258, 259, 260, 261, 262, 263, 264, 265, 266, 267, 268, 269, 270, 271, 272, 273, 274, 275, 276, 277, 278, 279, 280, 281, 282, 283, 284, 285, 286, 287, 288, 289, 290, 291, 292, 293, 294, 295, 296, 297, 298, 299]\n",
    "\n",
    "y = [0.23, 0.35, 0.01, -0.12, 0.05, 0.0, -0.02, -0.11, 0.08, 0.03, -0.07, 0.07, -0.11, 0.03, -0.13, -0.09, 0.0, -0.04, -0.09, -0.07, -0.06, 0.02, -0.22, 0.03, 0.07, 0.0, -0.1, 0.19, 0.12, 0.03, 0.04, 0.24, 0.02, -0.0, -0.04, 0.14, 0.01, -0.0, 0.1, 0.19, 0.05, 0.21, -0.01, 0.08, 0.19, 0.18, 0.08, 0.04, 0.06, 0.11, -0.03, -0.01, 0.07, 0.05, 0.05, 0.03, 0.01, 0.24, 0.05, 0.03, 0.06, 0.06, 0.16, 0.18, 0.19, 0.07, 0.12, 0.17, 0.13, 0.35, -0.03, 0.06, 0.19, 0.32, 0.26, 0.19, 0.04, 0.45, 0.11, 0.36, 0.38, 0.31, 0.23, 0.39, 0.4, 0.25, 0.31, 0.47, 0.49, 0.24, 0.31, 0.34, 0.39, 0.44, 0.46, 0.34, 0.35, 0.48, 0.5, 0.42, 0.4, 0.29, 0.4, 0.33, 0.37, 0.34, 0.57, 0.4, 0.51, 0.53, 0.39, 0.55, 0.47, 0.55, 0.61, 0.54, 0.44, 0.38, 0.24, 0.41, 0.38, 0.38, 0.49, 0.37, 0.43, 0.37, 0.31, 0.26, 0.48, 0.39, 0.27, 0.46, 0.44, 0.36, 0.27, 0.16, 0.4, 0.21, 0.11, 0.27, 0.28, 0.13, 0.24, 0.2, 0.06, 0.12, 0.15, 0.07, -0.01, -0.03, 0.11, -0.03, 0.01, -0.02, -0.08, -\n",
    "     0.1, -0.2, -0.14, -0.13, -0.19, -0.12, -0.18, -0.26, -0.42, -0.27, -0.37, -0.43, -0.32, -0.36, -0.45, -0.51, -0.59, -0.45, -0.51, -0.68, -0.59, -0.7, -0.67, -0.64, -0.8, -0.85, -0.88, -0.95, -0.76, -0.8, -0.86, -1.03, -1.07, -1.0, -0.99, -0.94, -0.92, -1.08, -1.12, -0.74, -0.83, -0.96, -0.79, -0.87, -1.01, -0.94, -0.95, -1.0, -1.03, -0.98, -0.95, -1.07, -1.14, -1.12, -1.02, -0.74, -0.96, -0.85, -0.9, -0.98, -1.04, -0.93, -0.9, -0.75, -0.94, -0.88, -0.71, -0.63, -0.65, -0.71, -0.78, -0.66, -0.52, -0.63, -0.54, -0.74, -0.53, -0.5, -0.42, -0.43, -0.56, -0.37, -0.34, -0.4, -0.36, -0.32, -0.15, -0.22, -0.18, -0.18, -0.03, -0.11, -0.13, -0.08, -0.2, -0.14, -0.02, 0.06, 0.14, 0.04, 0.22, 0.15, -0.01, 0.2, 0.25, 0.14, 0.23, 0.23, 0.25, 0.33, 0.26, 0.56, 0.17, 0.38, 0.37, 0.44, 0.27, 0.53, 0.33, 0.27, 0.44, 0.5, 0.4, 0.34, 0.63, 0.32, 0.47, 0.59, 0.43, 0.34, 0.47, 0.41, 0.3, 0.35, 0.4, 0.48, 0.41, 0.33, 0.5, 0.25, 0.42, 0.3, 0.61, 0.4, 0.48]\n"
   ]
  },
  {
   "cell_type": "code",
   "execution_count": 24,
   "metadata": {
    "ExecuteTime": {
     "end_time": "2022-09-30T09:50:54.159767Z",
     "start_time": "2022-09-30T09:50:54.155157Z"
    }
   },
   "outputs": [],
   "source": [
    "def f_prime(p, x, y):\n",
    "    mu, sigma = p\n",
    "    return np.vstack([\n",
    "        (2*sigma**2*(-mu + x) - (mu - x)*(sigma**2 - (mu - x)**2)) *\n",
    "        np.exp(-(mu - x)**2/(2*sigma**2))/sigma**4,\n",
    "        \n",
    "        \n",
    "        \n",
    "        3*(mu - x)**2*np.exp(-(mu - x)**2/(2*sigma**2))/sigma**3 -\n",
    "        (mu - x)**4*np.exp(-(mu - x)**2/(2*sigma**2))/sigma**5\n",
    "    ]).T"
   ]
  },
  {
   "cell_type": "code",
   "execution_count": 25,
   "metadata": {
    "ExecuteTime": {
     "end_time": "2022-09-30T09:50:54.596257Z",
     "start_time": "2022-09-30T09:50:54.585951Z"
    }
   },
   "outputs": [
    {
     "name": "stdout",
     "output_type": "stream",
     "text": [
      "[200.84118965  50.02549059]\n"
     ]
    }
   ],
   "source": [
    "params_est, _ = optimize.leastsq(\n",
    "    f,\n",
    "    p0,\n",
    "    Dfun=f_prime,\n",
    "    args=(x, y),\n",
    "    full_output=False,\n",
    ")\n",
    "\n",
    "print(params_est)"
   ]
  },
  {
   "cell_type": "markdown",
   "metadata": {},
   "source": [
    "# Conclusions\n",
    "<hr style = \"border:2px solid black\" ></hr>"
   ]
  },
  {
   "cell_type": "markdown",
   "metadata": {},
   "source": [
    "<div class=\"alert alert-danger\">\n",
    "<font color=black>\n",
    "\n",
    "- Need to check if you have to provide the derivative of the error or only of the evaluation funciton!\n",
    "\n",
    "</font>\n",
    "</div>"
   ]
  },
  {
   "cell_type": "markdown",
   "metadata": {},
   "source": [
    "# References\n",
    "<hr style = \"border:2px solid black\" ></hr>"
   ]
  },
  {
   "cell_type": "markdown",
   "metadata": {
    "ExecuteTime": {
     "end_time": "2022-09-29T20:24:32.236771Z",
     "start_time": "2022-09-29T20:24:32.236754Z"
    }
   },
   "source": [
    "<div class=\"alert alert-warning\">\n",
    "<font color=black>\n",
    "\n",
    "- https://vmartin.fr/automatic-jacobian-matrix-computation-with-sympy.html\n",
    "- https://docs.scipy.org/doc/scipy/reference/generated/scipy.optimize.least_squares.html\n",
    "- [SciPy: leastsq vs least_squares](https://stackoverflow.com/questions/41315270/scipy-leastsq-vs-least-squares)\n",
    "\n",
    "</font>\n",
    "</div>"
   ]
  },
  {
   "cell_type": "markdown",
   "metadata": {},
   "source": [
    "# Requirements\n",
    "<hr style = \"border:2px solid black\" ></hr>"
   ]
  },
  {
   "cell_type": "code",
   "execution_count": 13,
   "metadata": {
    "ExecuteTime": {
     "end_time": "2022-09-30T09:49:08.665658Z",
     "start_time": "2022-09-30T09:49:08.638604Z"
    }
   },
   "outputs": [
    {
     "name": "stdout",
     "output_type": "stream",
     "text": [
      "Python implementation: CPython\n",
      "Python version       : 3.10.4\n",
      "IPython version      : 8.3.0\n",
      "\n",
      "numpy     : 1.21.6\n",
      "autopep8  : 1.7.0\n",
      "sympy     : 1.11.1\n",
      "json      : 2.0.9\n",
      "matplotlib: 3.5.3\n",
      "scipy     : 1.7.3\n",
      "\n"
     ]
    }
   ],
   "source": [
    "%load_ext watermark\n",
    "%watermark -v -iv"
   ]
  },
  {
   "cell_type": "code",
   "execution_count": null,
   "metadata": {},
   "outputs": [],
   "source": []
  }
 ],
 "metadata": {
  "kernelspec": {
   "display_name": "ML4T",
   "language": "python",
   "name": "ml4t"
  },
  "language_info": {
   "codemirror_mode": {
    "name": "ipython",
    "version": 3
   },
   "file_extension": ".py",
   "mimetype": "text/x-python",
   "name": "python",
   "nbconvert_exporter": "python",
   "pygments_lexer": "ipython3",
   "version": "3.10.4"
  },
  "toc": {
   "base_numbering": 1,
   "nav_menu": {},
   "number_sections": true,
   "sideBar": true,
   "skip_h1_title": false,
   "title_cell": "Table of Contents",
   "title_sidebar": "Contents",
   "toc_cell": true,
   "toc_position": {
    "height": "calc(100% - 180px)",
    "left": "10px",
    "top": "150px",
    "width": "228px"
   },
   "toc_section_display": true,
   "toc_window_display": true
  },
  "varInspector": {
   "cols": {
    "lenName": 16,
    "lenType": 16,
    "lenVar": 40
   },
   "kernels_config": {
    "python": {
     "delete_cmd_postfix": "",
     "delete_cmd_prefix": "del ",
     "library": "var_list.py",
     "varRefreshCmd": "print(var_dic_list())"
    },
    "r": {
     "delete_cmd_postfix": ") ",
     "delete_cmd_prefix": "rm(",
     "library": "var_list.r",
     "varRefreshCmd": "cat(var_dic_list()) "
    }
   },
   "types_to_exclude": [
    "module",
    "function",
    "builtin_function_or_method",
    "instance",
    "_Feature"
   ],
   "window_display": false
  }
 },
 "nbformat": 4,
 "nbformat_minor": 1
}
